{
 "cells": [
  {
   "cell_type": "markdown",
   "metadata": {
    "toc": true
   },
   "source": [
    "<h1>Table of Contents<span class=\"tocSkip\"></span></h1>\n",
    "<div class=\"toc\"><ul class=\"toc-item\"><li><span><a href=\"#100-Days-Code-Challenge-:-Round-2\" data-toc-modified-id=\"100-Days-Code-Challenge-:-Round-2-1\"><span class=\"toc-item-num\">1&nbsp;&nbsp;</span>100 Days Code Challenge : Round 2</a></span><ul class=\"toc-item\"><li><span><a href=\"#Block-1\" data-toc-modified-id=\"Block-1-1.1\"><span class=\"toc-item-num\">1.1&nbsp;&nbsp;</span>Block 1</a></span><ul class=\"toc-item\"><li><span><a href=\"#Day-1\" data-toc-modified-id=\"Day-1-1.1.1\"><span class=\"toc-item-num\">1.1.1&nbsp;&nbsp;</span>Day 1</a></span></li></ul></li></ul></li></ul></div>"
   ]
  },
  {
   "cell_type": "markdown",
   "metadata": {},
   "source": [
    "# 100 Days Code Challenge : Round 2"
   ]
  },
  {
   "cell_type": "markdown",
   "metadata": {},
   "source": [
    "I have accepted the challenge (round2 of 100Days Code Challenge). Be accountable on twitter and Document daily log and Python programs on GitHub.\n",
    "\n",
    "\n",
    "My Objectives are :\n",
    "\n",
    "* To complete \"ML(Supervised & UnSupervised learnings) using Sckit-Learn\"\n",
    "* To complete \"Advance NLP with spacy\"\n",
    "* Build portfolios\n",
    "  * To submit 5 Kaggle ML Projects\n",
    "  * One hands-on project using MongoDB, Python and Spacy\n",
    "  * To submit three articles in Medium\n",
    "\n",
    "\n",
    "CheckList:\n",
    "\n",
    "1. Feature Engineering:\n",
    "   * Imputation\n",
    "   * One-hot encoding\n",
    "   * Binning\n",
    "   * Scaling\n",
    "   * Date Transformations\n",
    "   * Dropping Duplicates,Feature split and other transformations\n",
    "   \n",
    "   \n",
    "2. Advanced NLP with spacy\n",
    "   * Chapter 1: Finding words, phrases, names and concepts (**Completed**)\n",
    "   * Chapter 2: Large-scale data analysis with spaCy (**Completed**)\n",
    "   * Chapter 3: Processing Pipelines (**Completed**)\n",
    "   * Chapter 4: Training a neural network model\n",
    "   \n",
    "\n",
    "3. Regression (Supervised)\n",
    "   * Linear Regression \n",
    "   * Multi Linear Regression\n",
    "   * Regression  Metrics (for Evaluation)\n",
    "       * Mean Absolute Error\n",
    "       * Mean Squared Error\n",
    "       * R^2\n",
    "       \n",
    "\n",
    "4. Classification (Supervised)\n",
    "   * SVR\n",
    "   * Support Vector Machines\n",
    "   * Linear Discriminant Analysis\n",
    "   * Naive Bayes\n",
    "   * Nearest Neighbhor\n",
    "   * Logistics Regression\n",
    "   * Quadratic Discriminant\n",
    "   * Classification Metrics (for Evaluation)\n",
    "       * Accuracy\n",
    "       * Log Loss\n",
    "       * Area Under ROC Curve\n",
    "       * Confusion Matrix\n",
    "       * F score \n",
    "   \n",
    "5. Clustering(Un-Supervised)\n",
    "   * k-Means Clustering\n",
    "   * Principal Component Analysis\n",
    "   * Hierarchical Clustering\n",
    "\n",
    "6. Tree-based Methods\n",
    "   * Decision Tree\n",
    "   * Bagging\n",
    "   * Boosting\n",
    "   * Random Forests\n",
    "   \n",
    "7. Dimension Reduction \n",
    "   * Principal Component Regression \n",
    "   * Partial Least Squares\n",
    "\n",
    "8. Resampling Methods \n",
    "   * Bootstrapping\n",
    "   * Cross Validation\n",
    "   * Overfitting and Underfitting \n",
    "\n",
    "9. Hyper Parameters\n",
    "   * Grid Search\n",
    "   * Random Search\n",
    "   * Hyper parameter Tunning\n",
    "\n",
    "10. Others\n",
    "    * Subset Selection(Foward; Backward; Stepwise; Best)\n",
    "    * Shrinkage (Ridge Regression)\n",
    "    * Nonlinear Models (Step Function; Piecewise Function; Splines; Generalized Additive Model)  "
   ]
  },
  {
   "cell_type": "markdown",
   "metadata": {},
   "source": [
    "## Block 1"
   ]
  },
  {
   "cell_type": "markdown",
   "metadata": {},
   "source": [
    "### Day 1"
   ]
  },
  {
   "cell_type": "markdown",
   "metadata": {},
   "source": [
    "Date: 1st Jun 2019\n",
    "\n",
    "Time Spent : 4hr\n",
    "\n",
    "Today's progress: "
   ]
  },
  {
   "cell_type": "code",
   "execution_count": 2,
   "metadata": {},
   "outputs": [],
   "source": []
  },
  {
   "cell_type": "code",
   "execution_count": null,
   "metadata": {},
   "outputs": [],
   "source": []
  }
 ],
 "metadata": {
  "kernelspec": {
   "display_name": "Python 3",
   "language": "python",
   "name": "python3"
  },
  "language_info": {
   "codemirror_mode": {
    "name": "ipython",
    "version": 3
   },
   "file_extension": ".py",
   "mimetype": "text/x-python",
   "name": "python",
   "nbconvert_exporter": "python",
   "pygments_lexer": "ipython3",
   "version": "3.6.5"
  },
  "toc": {
   "base_numbering": 1,
   "nav_menu": {},
   "number_sections": true,
   "sideBar": true,
   "skip_h1_title": false,
   "title_cell": "Table of Contents",
   "title_sidebar": "Contents",
   "toc_cell": true,
   "toc_position": {},
   "toc_section_display": true,
   "toc_window_display": true
  },
  "varInspector": {
   "cols": {
    "lenName": 16,
    "lenType": 16,
    "lenVar": 40
   },
   "kernels_config": {
    "python": {
     "delete_cmd_postfix": "",
     "delete_cmd_prefix": "del ",
     "library": "var_list.py",
     "varRefreshCmd": "print(var_dic_list())"
    },
    "r": {
     "delete_cmd_postfix": ") ",
     "delete_cmd_prefix": "rm(",
     "library": "var_list.r",
     "varRefreshCmd": "cat(var_dic_list()) "
    }
   },
   "types_to_exclude": [
    "module",
    "function",
    "builtin_function_or_method",
    "instance",
    "_Feature"
   ],
   "window_display": false
  }
 },
 "nbformat": 4,
 "nbformat_minor": 2
}
