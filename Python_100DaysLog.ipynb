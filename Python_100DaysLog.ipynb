{
 "cells": [
  {
   "cell_type": "markdown",
   "metadata": {
    "toc": true
   },
   "source": [
    "<h1>Table of Contents<span class=\"tocSkip\"></span></h1>\n",
    "<div class=\"toc\"><ul class=\"toc-item\"><li><span><a href=\"#100-Days-Code-Challenge-:-Python\" data-toc-modified-id=\"100-Days-Code-Challenge-:-Python-1\"><span class=\"toc-item-num\">1&nbsp;&nbsp;</span>100 Days Code Challenge : Python</a></span><ul class=\"toc-item\"><li><span><a href=\"#Day-1\" data-toc-modified-id=\"Day-1-1.1\"><span class=\"toc-item-num\">1.1&nbsp;&nbsp;</span>Day 1</a></span></li><li><span><a href=\"#Day-2\" data-toc-modified-id=\"Day-2-1.2\"><span class=\"toc-item-num\">1.2&nbsp;&nbsp;</span>Day 2</a></span></li><li><span><a href=\"#Day-3\" data-toc-modified-id=\"Day-3-1.3\"><span class=\"toc-item-num\">1.3&nbsp;&nbsp;</span>Day 3</a></span></li><li><span><a href=\"#Day-4\" data-toc-modified-id=\"Day-4-1.4\"><span class=\"toc-item-num\">1.4&nbsp;&nbsp;</span>Day 4</a></span></li><li><span><a href=\"#Day-5\" data-toc-modified-id=\"Day-5-1.5\"><span class=\"toc-item-num\">1.5&nbsp;&nbsp;</span>Day 5</a></span></li><li><span><a href=\"#Day-6\" data-toc-modified-id=\"Day-6-1.6\"><span class=\"toc-item-num\">1.6&nbsp;&nbsp;</span>Day 6</a></span></li><li><span><a href=\"#Day-7\" data-toc-modified-id=\"Day-7-1.7\"><span class=\"toc-item-num\">1.7&nbsp;&nbsp;</span>Day 7</a></span></li><li><span><a href=\"#Day-8\" data-toc-modified-id=\"Day-8-1.8\"><span class=\"toc-item-num\">1.8&nbsp;&nbsp;</span>Day 8</a></span></li><li><span><a href=\"#Day-9\" data-toc-modified-id=\"Day-9-1.9\"><span class=\"toc-item-num\">1.9&nbsp;&nbsp;</span>Day 9</a></span></li><li><span><a href=\"#Day-10\" data-toc-modified-id=\"Day-10-1.10\"><span class=\"toc-item-num\">1.10&nbsp;&nbsp;</span>Day 10</a></span></li></ul></li></ul></div>"
   ]
  },
  {
   "cell_type": "markdown",
   "metadata": {},
   "source": [
    "# 100 Days Code Challenge : Python"
   ]
  },
  {
   "cell_type": "markdown",
   "metadata": {},
   "source": [
    "Objective: \n",
    "To revise & upgrade Python coding skills \n",
    "\n",
    "\n",
    "    \n",
    "List: \n",
    "\n",
    "    1. Python Object and Data Structures\n",
    "    2. Comparison Operators\n",
    "    3. Numpy\n",
    "    4. Pandas\n",
    "    5. Python Statements\n",
    "    6. Method and Functions\n",
    "    7. Object Orientiated Programming\n",
    "    8. Modules and Packages\n",
    "    9. Errors and Exceptions Handling\n",
    "    10. Decorators\n",
    "    11. Generators\n",
    "    12. XML scrapping\n",
    "    13. Web Scrapping\n",
    "    14. RESTful API\n",
    "    15. SQLite\n",
    "    16. Statistical Functions\n",
    "    17. Data Visulalizations\n",
    "    \n",
    "    \n",
    "    "
   ]
  },
  {
   "cell_type": "markdown",
   "metadata": {},
   "source": [
    "## Day 1"
   ]
  },
  {
   "cell_type": "markdown",
   "metadata": {},
   "source": [
    "## Day 2"
   ]
  },
  {
   "cell_type": "markdown",
   "metadata": {},
   "source": [
    "## Day 3"
   ]
  },
  {
   "cell_type": "markdown",
   "metadata": {},
   "source": [
    "## Day 4"
   ]
  },
  {
   "cell_type": "markdown",
   "metadata": {},
   "source": [
    "## Day 5"
   ]
  },
  {
   "cell_type": "markdown",
   "metadata": {},
   "source": [
    "## Day 6"
   ]
  },
  {
   "cell_type": "markdown",
   "metadata": {},
   "source": [
    "## Day 7"
   ]
  },
  {
   "cell_type": "markdown",
   "metadata": {},
   "source": [
    "## Day 8"
   ]
  },
  {
   "cell_type": "markdown",
   "metadata": {},
   "source": [
    "## Day 9"
   ]
  },
  {
   "cell_type": "markdown",
   "metadata": {},
   "source": [
    "## Day 10"
   ]
  },
  {
   "cell_type": "code",
   "execution_count": null,
   "metadata": {},
   "outputs": [],
   "source": []
  }
 ],
 "metadata": {
  "kernelspec": {
   "display_name": "Python 3",
   "language": "python",
   "name": "python3"
  },
  "language_info": {
   "codemirror_mode": {
    "name": "ipython",
    "version": 3
   },
   "file_extension": ".py",
   "mimetype": "text/x-python",
   "name": "python",
   "nbconvert_exporter": "python",
   "pygments_lexer": "ipython3",
   "version": "3.6.5"
  },
  "toc": {
   "base_numbering": 1,
   "nav_menu": {},
   "number_sections": true,
   "sideBar": true,
   "skip_h1_title": false,
   "title_cell": "Table of Contents",
   "title_sidebar": "Contents",
   "toc_cell": true,
   "toc_position": {
    "height": "calc(100% - 180px)",
    "left": "10px",
    "top": "150px",
    "width": "198px"
   },
   "toc_section_display": true,
   "toc_window_display": true
  },
  "varInspector": {
   "cols": {
    "lenName": 16,
    "lenType": 16,
    "lenVar": 40
   },
   "kernels_config": {
    "python": {
     "delete_cmd_postfix": "",
     "delete_cmd_prefix": "del ",
     "library": "var_list.py",
     "varRefreshCmd": "print(var_dic_list())"
    },
    "r": {
     "delete_cmd_postfix": ") ",
     "delete_cmd_prefix": "rm(",
     "library": "var_list.r",
     "varRefreshCmd": "cat(var_dic_list()) "
    }
   },
   "types_to_exclude": [
    "module",
    "function",
    "builtin_function_or_method",
    "instance",
    "_Feature"
   ],
   "window_display": false
  }
 },
 "nbformat": 4,
 "nbformat_minor": 2
}
