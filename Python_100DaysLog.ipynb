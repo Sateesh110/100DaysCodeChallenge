{
 "cells": [
  {
   "cell_type": "markdown",
   "metadata": {
    "toc": true
   },
   "source": [
    "<h1>Table of Contents<span class=\"tocSkip\"></span></h1>\n",
    "<div class=\"toc\"><ul class=\"toc-item\"><li><span><a href=\"#100-Days-Code-Challenge-:-Python\" data-toc-modified-id=\"100-Days-Code-Challenge-:-Python-1\"><span class=\"toc-item-num\">1&nbsp;&nbsp;</span>100 Days Code Challenge : Python</a></span><ul class=\"toc-item\"><li><span><a href=\"#GitHub-repositories-Links\" data-toc-modified-id=\"GitHub-repositories-Links-1.1\"><span class=\"toc-item-num\">1.1&nbsp;&nbsp;</span>GitHub repositories Links</a></span></li><li><span><a href=\"#Warm-up\" data-toc-modified-id=\"Warm-up-1.2\"><span class=\"toc-item-num\">1.2&nbsp;&nbsp;</span>Warm up</a></span><ul class=\"toc-item\"><li><span><a href=\"#Day-1\" data-toc-modified-id=\"Day-1-1.2.1\"><span class=\"toc-item-num\">1.2.1&nbsp;&nbsp;</span>Day 1</a></span></li><li><span><a href=\"#Day-2\" data-toc-modified-id=\"Day-2-1.2.2\"><span class=\"toc-item-num\">1.2.2&nbsp;&nbsp;</span>Day 2</a></span></li><li><span><a href=\"#Day-3\" data-toc-modified-id=\"Day-3-1.2.3\"><span class=\"toc-item-num\">1.2.3&nbsp;&nbsp;</span>Day 3</a></span></li><li><span><a href=\"#Day-4\" data-toc-modified-id=\"Day-4-1.2.4\"><span class=\"toc-item-num\">1.2.4&nbsp;&nbsp;</span>Day 4</a></span></li><li><span><a href=\"#Day-5\" data-toc-modified-id=\"Day-5-1.2.5\"><span class=\"toc-item-num\">1.2.5&nbsp;&nbsp;</span>Day 5</a></span></li><li><span><a href=\"#Day-6\" data-toc-modified-id=\"Day-6-1.2.6\"><span class=\"toc-item-num\">1.2.6&nbsp;&nbsp;</span>Day 6</a></span></li><li><span><a href=\"#Day-7\" data-toc-modified-id=\"Day-7-1.2.7\"><span class=\"toc-item-num\">1.2.7&nbsp;&nbsp;</span>Day 7</a></span></li><li><span><a href=\"#Day-8\" data-toc-modified-id=\"Day-8-1.2.8\"><span class=\"toc-item-num\">1.2.8&nbsp;&nbsp;</span>Day 8</a></span></li><li><span><a href=\"#Day-9\" data-toc-modified-id=\"Day-9-1.2.9\"><span class=\"toc-item-num\">1.2.9&nbsp;&nbsp;</span>Day 9</a></span></li></ul></li><li><span><a href=\"#Full-Throttle\" data-toc-modified-id=\"Full-Throttle-1.3\"><span class=\"toc-item-num\">1.3&nbsp;&nbsp;</span>Full Throttle</a></span><ul class=\"toc-item\"><li><span><a href=\"#Day-10\" data-toc-modified-id=\"Day-10-1.3.1\"><span class=\"toc-item-num\">1.3.1&nbsp;&nbsp;</span>Day 10</a></span></li><li><span><a href=\"#Day-11\" data-toc-modified-id=\"Day-11-1.3.2\"><span class=\"toc-item-num\">1.3.2&nbsp;&nbsp;</span>Day 11</a></span></li><li><span><a href=\"#Day-12\" data-toc-modified-id=\"Day-12-1.3.3\"><span class=\"toc-item-num\">1.3.3&nbsp;&nbsp;</span>Day 12</a></span></li><li><span><a href=\"#Day-13\" data-toc-modified-id=\"Day-13-1.3.4\"><span class=\"toc-item-num\">1.3.4&nbsp;&nbsp;</span>Day 13</a></span></li><li><span><a href=\"#Day-14\" data-toc-modified-id=\"Day-14-1.3.5\"><span class=\"toc-item-num\">1.3.5&nbsp;&nbsp;</span>Day 14</a></span></li><li><span><a href=\"#Day-15\" data-toc-modified-id=\"Day-15-1.3.6\"><span class=\"toc-item-num\">1.3.6&nbsp;&nbsp;</span>Day 15</a></span></li><li><span><a href=\"#Day-16\" data-toc-modified-id=\"Day-16-1.3.7\"><span class=\"toc-item-num\">1.3.7&nbsp;&nbsp;</span>Day 16</a></span></li><li><span><a href=\"#Day-17\" data-toc-modified-id=\"Day-17-1.3.8\"><span class=\"toc-item-num\">1.3.8&nbsp;&nbsp;</span>Day 17</a></span></li><li><span><a href=\"#Day-18\" data-toc-modified-id=\"Day-18-1.3.9\"><span class=\"toc-item-num\">1.3.9&nbsp;&nbsp;</span>Day 18</a></span></li><li><span><a href=\"#Day-19\" data-toc-modified-id=\"Day-19-1.3.10\"><span class=\"toc-item-num\">1.3.10&nbsp;&nbsp;</span>Day 19</a></span></li><li><span><a href=\"#Day-20\" data-toc-modified-id=\"Day-20-1.3.11\"><span class=\"toc-item-num\">1.3.11&nbsp;&nbsp;</span>Day 20</a></span></li><li><span><a href=\"#Day-21\" data-toc-modified-id=\"Day-21-1.3.12\"><span class=\"toc-item-num\">1.3.12&nbsp;&nbsp;</span>Day 21</a></span></li><li><span><a href=\"#Day-22\" data-toc-modified-id=\"Day-22-1.3.13\"><span class=\"toc-item-num\">1.3.13&nbsp;&nbsp;</span>Day 22</a></span></li><li><span><a href=\"#Day-23\" data-toc-modified-id=\"Day-23-1.3.14\"><span class=\"toc-item-num\">1.3.14&nbsp;&nbsp;</span>Day 23</a></span></li><li><span><a href=\"#Day-24\" data-toc-modified-id=\"Day-24-1.3.15\"><span class=\"toc-item-num\">1.3.15&nbsp;&nbsp;</span>Day 24</a></span></li><li><span><a href=\"#Day-25\" data-toc-modified-id=\"Day-25-1.3.16\"><span class=\"toc-item-num\">1.3.16&nbsp;&nbsp;</span>Day 25</a></span></li><li><span><a href=\"#Day-26\" data-toc-modified-id=\"Day-26-1.3.17\"><span class=\"toc-item-num\">1.3.17&nbsp;&nbsp;</span>Day 26</a></span></li><li><span><a href=\"#Day-27\" data-toc-modified-id=\"Day-27-1.3.18\"><span class=\"toc-item-num\">1.3.18&nbsp;&nbsp;</span>Day 27</a></span></li><li><span><a href=\"#Day-28\" data-toc-modified-id=\"Day-28-1.3.19\"><span class=\"toc-item-num\">1.3.19&nbsp;&nbsp;</span>Day 28</a></span></li><li><span><a href=\"#Day-29\" data-toc-modified-id=\"Day-29-1.3.20\"><span class=\"toc-item-num\">1.3.20&nbsp;&nbsp;</span>Day 29</a></span></li><li><span><a href=\"#Day-30\" data-toc-modified-id=\"Day-30-1.3.21\"><span class=\"toc-item-num\">1.3.21&nbsp;&nbsp;</span>Day 30</a></span></li><li><span><a href=\"#Day-31\" data-toc-modified-id=\"Day-31-1.3.22\"><span class=\"toc-item-num\">1.3.22&nbsp;&nbsp;</span>Day 31</a></span></li><li><span><a href=\"#Day-32\" data-toc-modified-id=\"Day-32-1.3.23\"><span class=\"toc-item-num\">1.3.23&nbsp;&nbsp;</span>Day 32</a></span></li></ul></li><li><span><a href=\"#After-Family-Vacation-(24th-Feb-to-15th-March-)\" data-toc-modified-id=\"After-Family-Vacation-(24th-Feb-to-15th-March-)-1.4\"><span class=\"toc-item-num\">1.4&nbsp;&nbsp;</span>After Family Vacation (24th Feb to 15th March )</a></span><ul class=\"toc-item\"><li><span><a href=\"#Day-33\" data-toc-modified-id=\"Day-33-1.4.1\"><span class=\"toc-item-num\">1.4.1&nbsp;&nbsp;</span>Day 33</a></span></li><li><span><a href=\"#Day-34\" data-toc-modified-id=\"Day-34-1.4.2\"><span class=\"toc-item-num\">1.4.2&nbsp;&nbsp;</span>Day 34</a></span></li><li><span><a href=\"#Day-35\" data-toc-modified-id=\"Day-35-1.4.3\"><span class=\"toc-item-num\">1.4.3&nbsp;&nbsp;</span>Day 35</a></span></li><li><span><a href=\"#Day-36\" data-toc-modified-id=\"Day-36-1.4.4\"><span class=\"toc-item-num\">1.4.4&nbsp;&nbsp;</span>Day 36</a></span></li><li><span><a href=\"#Day-37\" data-toc-modified-id=\"Day-37-1.4.5\"><span class=\"toc-item-num\">1.4.5&nbsp;&nbsp;</span>Day 37</a></span></li><li><span><a href=\"#Day-38\" data-toc-modified-id=\"Day-38-1.4.6\"><span class=\"toc-item-num\">1.4.6&nbsp;&nbsp;</span>Day 38</a></span></li><li><span><a href=\"#Day-39\" data-toc-modified-id=\"Day-39-1.4.7\"><span class=\"toc-item-num\">1.4.7&nbsp;&nbsp;</span>Day 39</a></span></li><li><span><a href=\"#Day-40\" data-toc-modified-id=\"Day-40-1.4.8\"><span class=\"toc-item-num\">1.4.8&nbsp;&nbsp;</span>Day 40</a></span></li><li><span><a href=\"#Day-41\" data-toc-modified-id=\"Day-41-1.4.9\"><span class=\"toc-item-num\">1.4.9&nbsp;&nbsp;</span>Day 41</a></span></li><li><span><a href=\"#Day-42\" data-toc-modified-id=\"Day-42-1.4.10\"><span class=\"toc-item-num\">1.4.10&nbsp;&nbsp;</span>Day 42</a></span></li><li><span><a href=\"#Day-43\" data-toc-modified-id=\"Day-43-1.4.11\"><span class=\"toc-item-num\">1.4.11&nbsp;&nbsp;</span>Day 43</a></span></li><li><span><a href=\"#Day-44\" data-toc-modified-id=\"Day-44-1.4.12\"><span class=\"toc-item-num\">1.4.12&nbsp;&nbsp;</span>Day 44</a></span></li><li><span><a href=\"#Day-45\" data-toc-modified-id=\"Day-45-1.4.13\"><span class=\"toc-item-num\">1.4.13&nbsp;&nbsp;</span>Day 45</a></span></li><li><span><a href=\"#Day-46\" data-toc-modified-id=\"Day-46-1.4.14\"><span class=\"toc-item-num\">1.4.14&nbsp;&nbsp;</span>Day 46</a></span></li><li><span><a href=\"#Day-47\" data-toc-modified-id=\"Day-47-1.4.15\"><span class=\"toc-item-num\">1.4.15&nbsp;&nbsp;</span>Day 47</a></span></li><li><span><a href=\"#Day-48\" data-toc-modified-id=\"Day-48-1.4.16\"><span class=\"toc-item-num\">1.4.16&nbsp;&nbsp;</span>Day 48</a></span></li><li><span><a href=\"#Day-49\" data-toc-modified-id=\"Day-49-1.4.17\"><span class=\"toc-item-num\">1.4.17&nbsp;&nbsp;</span>Day 49</a></span></li></ul></li><li><span><a href=\"#Half-Century-Mark-!\" data-toc-modified-id=\"Half-Century-Mark-!-1.5\"><span class=\"toc-item-num\">1.5&nbsp;&nbsp;</span>Half Century Mark !</a></span><ul class=\"toc-item\"><li><span><a href=\"#Day-50\" data-toc-modified-id=\"Day-50-1.5.1\"><span class=\"toc-item-num\">1.5.1&nbsp;&nbsp;</span>Day 50</a></span></li><li><span><a href=\"#Day-51\" data-toc-modified-id=\"Day-51-1.5.2\"><span class=\"toc-item-num\">1.5.2&nbsp;&nbsp;</span>Day 51</a></span></li><li><span><a href=\"#Day-52\" data-toc-modified-id=\"Day-52-1.5.3\"><span class=\"toc-item-num\">1.5.3&nbsp;&nbsp;</span>Day 52</a></span></li><li><span><a href=\"#Day-53\" data-toc-modified-id=\"Day-53-1.5.4\"><span class=\"toc-item-num\">1.5.4&nbsp;&nbsp;</span>Day 53</a></span></li><li><span><a href=\"#Day-54\" data-toc-modified-id=\"Day-54-1.5.5\"><span class=\"toc-item-num\">1.5.5&nbsp;&nbsp;</span>Day 54</a></span></li><li><span><a href=\"#Day-55\" data-toc-modified-id=\"Day-55-1.5.6\"><span class=\"toc-item-num\">1.5.6&nbsp;&nbsp;</span>Day 55</a></span></li><li><span><a href=\"#Day-56\" data-toc-modified-id=\"Day-56-1.5.7\"><span class=\"toc-item-num\">1.5.7&nbsp;&nbsp;</span>Day 56</a></span></li><li><span><a href=\"#Day-57\" data-toc-modified-id=\"Day-57-1.5.8\"><span class=\"toc-item-num\">1.5.8&nbsp;&nbsp;</span>Day 57</a></span></li><li><span><a href=\"#Day-58\" data-toc-modified-id=\"Day-58-1.5.9\"><span class=\"toc-item-num\">1.5.9&nbsp;&nbsp;</span>Day 58</a></span></li><li><span><a href=\"#Day-59\" data-toc-modified-id=\"Day-59-1.5.10\"><span class=\"toc-item-num\">1.5.10&nbsp;&nbsp;</span>Day 59</a></span></li><li><span><a href=\"#Day-60\" data-toc-modified-id=\"Day-60-1.5.11\"><span class=\"toc-item-num\">1.5.11&nbsp;&nbsp;</span>Day 60</a></span></li><li><span><a href=\"#Day-61\" data-toc-modified-id=\"Day-61-1.5.12\"><span class=\"toc-item-num\">1.5.12&nbsp;&nbsp;</span>Day 61</a></span></li><li><span><a href=\"#Day-62\" data-toc-modified-id=\"Day-62-1.5.13\"><span class=\"toc-item-num\">1.5.13&nbsp;&nbsp;</span>Day 62</a></span></li><li><span><a href=\"#Day-63\" data-toc-modified-id=\"Day-63-1.5.14\"><span class=\"toc-item-num\">1.5.14&nbsp;&nbsp;</span>Day 63</a></span></li><li><span><a href=\"#Day-64\" data-toc-modified-id=\"Day-64-1.5.15\"><span class=\"toc-item-num\">1.5.15&nbsp;&nbsp;</span>Day 64</a></span></li><li><span><a href=\"#Day-65\" data-toc-modified-id=\"Day-65-1.5.16\"><span class=\"toc-item-num\">1.5.16&nbsp;&nbsp;</span>Day 65</a></span></li><li><span><a href=\"#Day-66\" data-toc-modified-id=\"Day-66-1.5.17\"><span class=\"toc-item-num\">1.5.17&nbsp;&nbsp;</span>Day 66</a></span></li><li><span><a href=\"#Day-67\" data-toc-modified-id=\"Day-67-1.5.18\"><span class=\"toc-item-num\">1.5.18&nbsp;&nbsp;</span>Day 67</a></span></li><li><span><a href=\"#Break:-Due-to-Viral-fever\" data-toc-modified-id=\"Break:-Due-to-Viral-fever-1.5.19\"><span class=\"toc-item-num\">1.5.19&nbsp;&nbsp;</span>Break: Due to Viral fever</a></span></li><li><span><a href=\"#Day-68\" data-toc-modified-id=\"Day-68-1.5.20\"><span class=\"toc-item-num\">1.5.20&nbsp;&nbsp;</span>Day 68</a></span></li><li><span><a href=\"#Day-69\" data-toc-modified-id=\"Day-69-1.5.21\"><span class=\"toc-item-num\">1.5.21&nbsp;&nbsp;</span>Day 69</a></span></li><li><span><a href=\"#Day-70\" data-toc-modified-id=\"Day-70-1.5.22\"><span class=\"toc-item-num\">1.5.22&nbsp;&nbsp;</span>Day 70</a></span></li><li><span><a href=\"#Day-71\" data-toc-modified-id=\"Day-71-1.5.23\"><span class=\"toc-item-num\">1.5.23&nbsp;&nbsp;</span>Day 71</a></span></li><li><span><a href=\"#Day-72\" data-toc-modified-id=\"Day-72-1.5.24\"><span class=\"toc-item-num\">1.5.24&nbsp;&nbsp;</span>Day 72</a></span></li><li><span><a href=\"#Day-73\" data-toc-modified-id=\"Day-73-1.5.25\"><span class=\"toc-item-num\">1.5.25&nbsp;&nbsp;</span>Day 73</a></span></li><li><span><a href=\"#Day-74\" data-toc-modified-id=\"Day-74-1.5.26\"><span class=\"toc-item-num\">1.5.26&nbsp;&nbsp;</span>Day 74</a></span></li><li><span><a href=\"#Day-75\" data-toc-modified-id=\"Day-75-1.5.27\"><span class=\"toc-item-num\">1.5.27&nbsp;&nbsp;</span>Day 75</a></span></li><li><span><a href=\"#Day-76\" data-toc-modified-id=\"Day-76-1.5.28\"><span class=\"toc-item-num\">1.5.28&nbsp;&nbsp;</span>Day 76</a></span></li><li><span><a href=\"#Day-77\" data-toc-modified-id=\"Day-77-1.5.29\"><span class=\"toc-item-num\">1.5.29&nbsp;&nbsp;</span>Day 77</a></span></li><li><span><a href=\"#Day-78\" data-toc-modified-id=\"Day-78-1.5.30\"><span class=\"toc-item-num\">1.5.30&nbsp;&nbsp;</span>Day 78</a></span></li><li><span><a href=\"#Day-79\" data-toc-modified-id=\"Day-79-1.5.31\"><span class=\"toc-item-num\">1.5.31&nbsp;&nbsp;</span>Day 79</a></span></li><li><span><a href=\"#Day-80\" data-toc-modified-id=\"Day-80-1.5.32\"><span class=\"toc-item-num\">1.5.32&nbsp;&nbsp;</span>Day 80</a></span></li><li><span><a href=\"#Day-81\" data-toc-modified-id=\"Day-81-1.5.33\"><span class=\"toc-item-num\">1.5.33&nbsp;&nbsp;</span>Day 81</a></span></li><li><span><a href=\"#Day-82\" data-toc-modified-id=\"Day-82-1.5.34\"><span class=\"toc-item-num\">1.5.34&nbsp;&nbsp;</span>Day 82</a></span></li><li><span><a href=\"#Day-83\" data-toc-modified-id=\"Day-83-1.5.35\"><span class=\"toc-item-num\">1.5.35&nbsp;&nbsp;</span>Day 83</a></span></li><li><span><a href=\"#Day-84\" data-toc-modified-id=\"Day-84-1.5.36\"><span class=\"toc-item-num\">1.5.36&nbsp;&nbsp;</span>Day 84</a></span></li><li><span><a href=\"#Day-85\" data-toc-modified-id=\"Day-85-1.5.37\"><span class=\"toc-item-num\">1.5.37&nbsp;&nbsp;</span>Day 85</a></span></li><li><span><a href=\"#Day-86\" data-toc-modified-id=\"Day-86-1.5.38\"><span class=\"toc-item-num\">1.5.38&nbsp;&nbsp;</span>Day 86</a></span></li><li><span><a href=\"#Day-87\" data-toc-modified-id=\"Day-87-1.5.39\"><span class=\"toc-item-num\">1.5.39&nbsp;&nbsp;</span>Day 87</a></span></li><li><span><a href=\"#Day-88\" data-toc-modified-id=\"Day-88-1.5.40\"><span class=\"toc-item-num\">1.5.40&nbsp;&nbsp;</span>Day 88</a></span></li><li><span><a href=\"#Day-89\" data-toc-modified-id=\"Day-89-1.5.41\"><span class=\"toc-item-num\">1.5.41&nbsp;&nbsp;</span>Day 89</a></span></li><li><span><a href=\"#Day-90\" data-toc-modified-id=\"Day-90-1.5.42\"><span class=\"toc-item-num\">1.5.42&nbsp;&nbsp;</span>Day 90</a></span></li><li><span><a href=\"#Day-91\" data-toc-modified-id=\"Day-91-1.5.43\"><span class=\"toc-item-num\">1.5.43&nbsp;&nbsp;</span>Day 91</a></span></li><li><span><a href=\"#Day-92\" data-toc-modified-id=\"Day-92-1.5.44\"><span class=\"toc-item-num\">1.5.44&nbsp;&nbsp;</span>Day 92</a></span></li><li><span><a href=\"#Day-93\" data-toc-modified-id=\"Day-93-1.5.45\"><span class=\"toc-item-num\">1.5.45&nbsp;&nbsp;</span>Day 93</a></span></li><li><span><a href=\"#Day-94\" data-toc-modified-id=\"Day-94-1.5.46\"><span class=\"toc-item-num\">1.5.46&nbsp;&nbsp;</span>Day 94</a></span></li><li><span><a href=\"#Day-95\" data-toc-modified-id=\"Day-95-1.5.47\"><span class=\"toc-item-num\">1.5.47&nbsp;&nbsp;</span>Day 95</a></span></li><li><span><a href=\"#Day-96\" data-toc-modified-id=\"Day-96-1.5.48\"><span class=\"toc-item-num\">1.5.48&nbsp;&nbsp;</span>Day 96</a></span></li><li><span><a href=\"#Day-97\" data-toc-modified-id=\"Day-97-1.5.49\"><span class=\"toc-item-num\">1.5.49&nbsp;&nbsp;</span>Day 97</a></span></li><li><span><a href=\"#Day-98\" data-toc-modified-id=\"Day-98-1.5.50\"><span class=\"toc-item-num\">1.5.50&nbsp;&nbsp;</span>Day 98</a></span></li><li><span><a href=\"#Day-99\" data-toc-modified-id=\"Day-99-1.5.51\"><span class=\"toc-item-num\">1.5.51&nbsp;&nbsp;</span>Day 99</a></span></li><li><span><a href=\"#Day-100\" data-toc-modified-id=\"Day-100-1.5.52\"><span class=\"toc-item-num\">1.5.52&nbsp;&nbsp;</span>Day 100</a></span></li></ul></li></ul></li></ul></div>"
   ]
  },
  {
   "cell_type": "markdown",
   "metadata": {},
   "source": [
    "# 100 Days Code Challenge : Python"
   ]
  },
  {
   "cell_type": "markdown",
   "metadata": {},
   "source": [
    "Why I have accepted the challenge?\n",
    "\n",
    "I am using Python for the past two years not only to support my daily work activities like data analysis or XML(Data scrapping) but also to write statistical functions in my Data Science Course @ University of Toronto. I am doing #100DaysCode challenge to help me build a strong foundation before I start \"Machine Learning @ University of Toronto\" in May 2019. \n",
    "\n",
    "\n",
    "My Objective: \n",
    "- To revise & upgrade Python programming skills in the following topics.\n",
    "- Be accountable on twitter \n",
    "- Document daily log and Python programs on GitHub.\n",
    "\n",
    " \n",
    "List of Topics: \n",
    "\n",
    "    1. Python Object and Data Structures (**Completed**)\n",
    "            - Strings\n",
    "            - Lists\n",
    "            - Dictionary\n",
    "            - Sets\n",
    "            - Tuples\n",
    "    2. Comparison Operators (**Completed**)\n",
    "    3. Numpy (**Completed**)\n",
    "    4. Pandas (**Completed**)\n",
    "    5. Python Statements (**Completed**)\n",
    "    6. Method and Functions (**Completed**)\n",
    "    7. Object Orientiated Programming (**Completed**)\n",
    "    8. Modules and Packages\n",
    "    9. Errors and Exceptions Handling (**Docmentation in progress**)\n",
    "    10. Decorators\n",
    "    11. Generators (**Completed**)\n",
    "    12. XML scrapping (**Completed**)\n",
    "    13. Web Scrapping (**Completed**)\n",
    "    14. RESTful API   (**Completed**)\n",
    "    15. PostgreSQL, SQLite, SQLalchemy (**Completed**)\n",
    "    16. Statistical Functions (**Completed**)\n",
    "    17. Data Visulalizations (**Completed**)\n",
    "    18. MongoDB using Python (**Completed**)\n",
    "    19. ReGex\n",
    "    20. Import Data using Python from various sources (**Docmentation in progress**)\n",
    "    21. Sckit\n",
    "    22. Supervised learning \n",
    "    23. UnSupervised learning\n",
    "    24. Deep Learning (Tensor Flow)\n",
    "    25. Advanced SQL (**Completed**)\n",
    "    \n",
    "    \n",
    "    \n",
    "    \n",
    "Pre-requisites:\n",
    "\n",
    "1. GitHub setup (**Completed**)\n",
    "2. Add Jupyter Extensions (**Completed**)\n",
    "3. Prepare list of topics to target  (**Completed**)\n",
    "\n",
    "\n",
    "Statistical techniques for ML:\n",
    "\n",
    "1. Linear Regression (Simple Linear Regression; Multiple Linear Regression)\n",
    "2. Classification (Logistic Regression; Discriminant Analysis; Linear Discriminant Analysis; Quadratic Discriminant)\n",
    "3. Resampling Methods (Bootstrapping; Cross Validation)\n",
    "4. Subset Selection(Foward; Backward; Stepwise; Best)\n",
    "5. Shrinkage (Ridge Regression)\n",
    "6. Dimension Reduction (Principal Components Regression; Partial Least Squares)\n",
    "7. Nonlinear Models (Step Function; Piecewise Function; Splines; Generalized Additive Model)\n",
    "8. Tree-Based Methods (Bagging; Boosting; Random Forests)\n",
    "9. Support Vector Machines\n",
    "10. Unsupervised Learning(Principal Component Analysis; k-Means Clustering, Hierarchical Clustering)  "
   ]
  },
  {
   "cell_type": "markdown",
   "metadata": {},
   "source": [
    "## GitHub repositories Links"
   ]
  },
  {
   "cell_type": "markdown",
   "metadata": {},
   "source": [
    "|Topic|GitHub Link(s)| \n",
    "|---|---|\n",
    "|Strings| https://github.com/Sateesh110/Rep_Python/blob/master/Py_MyRef/zs_Advanced_Strings.ipynb\n",
    "|Lists| https://github.com/Sateesh110/Rep_Python/blob/master/Py_MyRef/zs_Advanced_Lists.ipynb\n",
    "|Tuples| https://github.com/Sateesh110/Rep_Python/blob/master/Py_MyRef/zs_Advanced_Tuples.ipynb\n",
    "|Dictionary|https://github.com/Sateesh110/Rep_Python/blob/master/Py_MyRef/zs_Advanced_Dictionary.ipynb\n",
    "|Sets|https://github.com/Sateesh110/Rep_Python/blob/master/Py_MyRef/zs_Advanced_Sets.ipynb\n",
    "|Literals & Operators|https://github.com/Sateesh110/Rep_Python/blob/master/Py_MyRef/zs_Variables_Comparsion_Statements.ipynb\n",
    "|Functions & Methods|https://github.com/Sateesh110/Rep_Python/blob/master/Py_MyRef/zs_Advanced_Methods_Functions.ipynb\n",
    "|Class & Module|https://github.com/Sateesh110/Rep_Python/blob/master/Py_MyRef/zs_Advanced_Methods_Functions.ipynb\n",
    "|Array & Numpy|https://github.com/Sateesh110/Rep_Python/blob/master/Py_MyRef/zs_Advanced_Numpy.ipynb"
   ]
  },
  {
   "cell_type": "markdown",
   "metadata": {},
   "source": [
    "## Warm up"
   ]
  },
  {
   "cell_type": "markdown",
   "metadata": {},
   "source": [
    "### Day 1"
   ]
  },
  {
   "cell_type": "markdown",
   "metadata": {},
   "source": [
    "Date: 23rd Oct 2018\n",
    "\n",
    "Time Spent : 1 hr\n",
    "\n",
    "Today's progress: I went through the Python Data structures. "
   ]
  },
  {
   "cell_type": "markdown",
   "metadata": {},
   "source": [
    "### Day 2"
   ]
  },
  {
   "cell_type": "markdown",
   "metadata": {},
   "source": [
    "Date: 24rd Oct 2018 \n",
    "\n",
    "Time Spent : 1 hr\n",
    "\n",
    "Today's progress: Revised Lists in Python."
   ]
  },
  {
   "cell_type": "markdown",
   "metadata": {},
   "source": [
    "### Day 3"
   ]
  },
  {
   "cell_type": "markdown",
   "metadata": {},
   "source": [
    "Date: 25th Oct 2018\n",
    "\n",
    "Time Spent : 1 hr\n",
    "\n",
    "Today's progress: Spent more than hr. Completed Stats assignment using Python SciPy - pvalue, confidence intervals, mean n SD for sample"
   ]
  },
  {
   "cell_type": "markdown",
   "metadata": {
    "heading_collapsed": true
   },
   "source": [
    "### Day 4"
   ]
  },
  {
   "cell_type": "markdown",
   "metadata": {
    "hidden": true
   },
   "source": [
    "Date: 5th Nov 2018\n",
    "\n",
    "Time Spent : 1 hr\n",
    "\n",
    "Today's progress: Revised Python Variables. "
   ]
  },
  {
   "cell_type": "markdown",
   "metadata": {
    "heading_collapsed": true
   },
   "source": [
    "### Day 5"
   ]
  },
  {
   "cell_type": "markdown",
   "metadata": {
    "hidden": true
   },
   "source": [
    "Date: 6th Nov 2018\n",
    "\n",
    "Time Spent : 1 hr\n",
    "\n",
    "Today's progress: Revised Python Variables."
   ]
  },
  {
   "cell_type": "markdown",
   "metadata": {},
   "source": [
    "### Day 6"
   ]
  },
  {
   "cell_type": "markdown",
   "metadata": {},
   "source": [
    "Date: 7th Nov 2018\n",
    "\n",
    "Time Spent : 1 hr\n",
    "\n",
    "Today's progress: Revised Python Variables. Realized that i have spent more time on this challenge. Add to that, I have to my shift my priority for upcoming project go-live(@work) and post go-live support."
   ]
  },
  {
   "cell_type": "markdown",
   "metadata": {
    "heading_collapsed": true
   },
   "source": [
    "### Day 7"
   ]
  },
  {
   "cell_type": "markdown",
   "metadata": {
    "hidden": true
   },
   "source": [
    "Date: 10th Jan 2019\n",
    "\n",
    "Time Spent : 2 hr\n",
    "\n",
    "Today's progress: New challenge at work. I have analyze 1000+ xmls to understand data attributes/values, build logical data model and design data extractions as per consumer requirements.\n",
    "So, I wrote a script in python (using lxml) to scrap required data from xmls. Mission accomplished. Reduced 1 week's work to 1 day's work. "
   ]
  },
  {
   "cell_type": "markdown",
   "metadata": {
    "heading_collapsed": true
   },
   "source": [
    "### Day 8"
   ]
  },
  {
   "cell_type": "markdown",
   "metadata": {
    "hidden": true
   },
   "source": [
    "Date: 12th Jan 2019\n",
    "\n",
    "Time Spent : 1 hr\n",
    "\n",
    "Today's progress: Revisit my previous day code to scrap the data from XMls in case of Name Space. \n",
    "Let me be more observant of #100DaysCode challenge for few days and adopt the best practices as well as structure my daily log. "
   ]
  },
  {
   "cell_type": "markdown",
   "metadata": {
    "heading_collapsed": true
   },
   "source": [
    "### Day 9"
   ]
  },
  {
   "cell_type": "markdown",
   "metadata": {
    "hidden": true
   },
   "source": [
    "Date: 1st Feb 2019\n",
    "\n",
    "Time Spent : 1 hr\n",
    "\n",
    "Today's progress: Completed GitHub Setup for my daily log.\n",
    "Completed work commitments. Wish me luck to complete my prep (for deep learning) by 28th Feb "
   ]
  },
  {
   "cell_type": "markdown",
   "metadata": {
    "heading_collapsed": true
   },
   "source": [
    "## Full Throttle"
   ]
  },
  {
   "cell_type": "markdown",
   "metadata": {
    "heading_collapsed": true,
    "hidden": true
   },
   "source": [
    "### Day 10"
   ]
  },
  {
   "cell_type": "markdown",
   "metadata": {
    "hidden": true
   },
   "source": [
    "Date: 2nd Feb 2019\n",
    "\n",
    "Time Spent : 4 hr\n",
    "\n",
    "Today's progress: Revised advance string methods - case conversion, count, find, split, partition,split, index, slicing, join, replace, conversion to list etc.   "
   ]
  },
  {
   "cell_type": "markdown",
   "metadata": {
    "heading_collapsed": true,
    "hidden": true
   },
   "source": [
    "### Day 11"
   ]
  },
  {
   "cell_type": "markdown",
   "metadata": {
    "hidden": true
   },
   "source": [
    "Date: 3rd Feb 2019\n",
    "\n",
    "Time Spent : 2 hr\n",
    "\n",
    "Today's progress: Resolved 20 problems related to string in hacker rank."
   ]
  },
  {
   "cell_type": "markdown",
   "metadata": {
    "heading_collapsed": true,
    "hidden": true
   },
   "source": [
    "### Day 12"
   ]
  },
  {
   "cell_type": "markdown",
   "metadata": {
    "hidden": true
   },
   "source": [
    "Date: 4th Feb 2019\n",
    "\n",
    "Time Spent : 2 hr\n",
    "\n",
    "Today's progress: Revised Lists and its built methods. Compiled the examples in Jupyter notebook. "
   ]
  },
  {
   "cell_type": "markdown",
   "metadata": {
    "heading_collapsed": true,
    "hidden": true
   },
   "source": [
    "### Day 13"
   ]
  },
  {
   "cell_type": "markdown",
   "metadata": {
    "hidden": true
   },
   "source": [
    "Date: 5th Feb 2019\n",
    "\n",
    "Time Spent : 1 hr\n",
    "\n",
    "Today's progress: Revised Tuples and compiled the examples in Jupyter notebook. Moving forward,I should revise previous day work for 10 to 15 minutes. "
   ]
  },
  {
   "cell_type": "markdown",
   "metadata": {
    "heading_collapsed": true,
    "hidden": true
   },
   "source": [
    "### Day 14"
   ]
  },
  {
   "cell_type": "markdown",
   "metadata": {
    "hidden": true
   },
   "source": [
    "Date: 6th Feb 2019\n",
    "\n",
    "Time Spent : 2 hrs\n",
    "\n",
    "Today's progress: Spent 10 mins to revise previous day work. Completed Dictionary and compiled the examples in Jupyter notebook."
   ]
  },
  {
   "cell_type": "markdown",
   "metadata": {
    "heading_collapsed": true,
    "hidden": true
   },
   "source": [
    "### Day 15"
   ]
  },
  {
   "cell_type": "markdown",
   "metadata": {
    "hidden": true
   },
   "source": [
    "Date: 7th Feb 2019\n",
    "\n",
    "Time Spent : 2 hrs\n",
    "\n",
    "Today's progress: Completed SET - Create/Change, Set operations(Union,Intersection,Difference etc),Frozen Set and Set Methods.Compiled the examples in Jupyter notebook."
   ]
  },
  {
   "cell_type": "markdown",
   "metadata": {
    "heading_collapsed": true,
    "hidden": true
   },
   "source": [
    "### Day 16"
   ]
  },
  {
   "cell_type": "markdown",
   "metadata": {
    "hidden": true
   },
   "source": [
    "Date: 8th Feb 2019\n",
    "\n",
    "Time Spent : 1 hrs\n",
    "\n",
    "Today's progress: Completed Literals & Operators.Compiled the examples in Jupyter notebook."
   ]
  },
  {
   "cell_type": "markdown",
   "metadata": {
    "heading_collapsed": true,
    "hidden": true
   },
   "source": [
    "### Day 17"
   ]
  },
  {
   "cell_type": "markdown",
   "metadata": {
    "hidden": true
   },
   "source": [
    "Date: 9th Feb 2019\n",
    "\n",
    "Time Spent : 1 hrs\n",
    "\n",
    "Today's progress: Completed Statement, Namespace, Special Operators.Compiled the examples in Jupyter notebook."
   ]
  },
  {
   "cell_type": "markdown",
   "metadata": {
    "heading_collapsed": true,
    "hidden": true
   },
   "source": [
    "### Day 18"
   ]
  },
  {
   "cell_type": "markdown",
   "metadata": {
    "hidden": true
   },
   "source": [
    "Date: 10th Feb 2019\n",
    "\n",
    "Time Spent : 3 hrs\n",
    "\n",
    "Today's progress: Completed Functions, Arguments, *args, **kwargs, lambda"
   ]
  },
  {
   "cell_type": "markdown",
   "metadata": {
    "heading_collapsed": true,
    "hidden": true
   },
   "source": [
    "### Day 19"
   ]
  },
  {
   "cell_type": "markdown",
   "metadata": {
    "hidden": true
   },
   "source": [
    "Date: 11th Feb 2019\n",
    "\n",
    "Time Spent : 3 hrs\n",
    "\n",
    "Today's progress: Completed recursive functions, flow controls loops- if/elif/else, for/else, while/else, break,pass, continue.Compiled the examples in Jupyter notebook."
   ]
  },
  {
   "cell_type": "markdown",
   "metadata": {
    "heading_collapsed": true,
    "hidden": true
   },
   "source": [
    "### Day 20"
   ]
  },
  {
   "cell_type": "markdown",
   "metadata": {
    "hidden": true
   },
   "source": [
    "Date: 12th Feb 2019\n",
    "\n",
    "Time Spent : 1 hrs\n",
    "\n",
    "Today's progress: wrote GCD program using recursive function.revisted some learning gaps in functions and methods. "
   ]
  },
  {
   "cell_type": "markdown",
   "metadata": {
    "heading_collapsed": true,
    "hidden": true
   },
   "source": [
    "### Day 21"
   ]
  },
  {
   "cell_type": "markdown",
   "metadata": {
    "hidden": true
   },
   "source": [
    "Date: 13th Feb 2019\n",
    "\n",
    "Time Spent : 3 hrs\n",
    "\n",
    "Today's progress: Spent time in compiling my short notes on OOPS - Class, class attributes, defining instance attributes & methods. OOPS's properties like Inheritance,Encapsulation,Special methods."
   ]
  },
  {
   "cell_type": "markdown",
   "metadata": {
    "heading_collapsed": true,
    "hidden": true
   },
   "source": [
    "### Day 22"
   ]
  },
  {
   "cell_type": "markdown",
   "metadata": {
    "hidden": true
   },
   "source": [
    "Date: 14th Feb 2019\n",
    "\n",
    "Time Spent : 2 hrs\n",
    "\n",
    "Today's progress: Completed topics - 1d array, 2d array, 3d array, Initial placeholders(range array, array with zeros, identity array, empty array, ones array, linespace, constant array, randon array)."
   ]
  },
  {
   "cell_type": "markdown",
   "metadata": {
    "heading_collapsed": true,
    "hidden": true
   },
   "source": [
    "### Day 23"
   ]
  },
  {
   "cell_type": "markdown",
   "metadata": {
    "hidden": true
   },
   "source": [
    "Date: 15th Feb 2019\n",
    "\n",
    "Time Spent : 1 hrs\n",
    "\n",
    "Today's progress: Completed topics - Inspecting Array (shape, ndim, len,dtype,astype), Help function "
   ]
  },
  {
   "cell_type": "markdown",
   "metadata": {
    "heading_collapsed": true,
    "hidden": true
   },
   "source": [
    "### Day 24"
   ]
  },
  {
   "cell_type": "markdown",
   "metadata": {
    "hidden": true
   },
   "source": [
    "Date: 16th Feb 2019\n",
    "\n",
    "Time Spent : 2 hrs\n",
    "\n",
    "Today's progress: Completed topics - Array Mathematics(Arithmetic Operations, Comparsion,Aggregate functions - std, mean, median,max, min, cumsum, sum) "
   ]
  },
  {
   "cell_type": "markdown",
   "metadata": {
    "heading_collapsed": true,
    "hidden": true
   },
   "source": [
    "### Day 25"
   ]
  },
  {
   "cell_type": "markdown",
   "metadata": {
    "hidden": true
   },
   "source": [
    "Date: 17th Feb 2019\n",
    "\n",
    "Time Spent : 2 hrs\n",
    "\n",
    "Today's progress: Copying Array,Sorting Arrays, Subsetting, Slicing, Indexing"
   ]
  },
  {
   "cell_type": "markdown",
   "metadata": {
    "heading_collapsed": true,
    "hidden": true
   },
   "source": [
    "### Day 26"
   ]
  },
  {
   "cell_type": "markdown",
   "metadata": {
    "hidden": true
   },
   "source": [
    "Date: 18th Feb 2019\n",
    "\n",
    "Time Spent : 4 hrs\n",
    "\n",
    "Today's progress: Completed topics on Array Manipulations & I/O functions - Transposing, Flatten array, reshape, add/removing elements (append, insert, resize, delete), Combining Arrays(Horizontal, Vertical,Concatenate arrays), split( horizontal, vertical), Input/Output array functions, and other array examples (for future reference).   "
   ]
  },
  {
   "cell_type": "markdown",
   "metadata": {
    "heading_collapsed": true,
    "hidden": true
   },
   "source": [
    "### Day 27"
   ]
  },
  {
   "cell_type": "markdown",
   "metadata": {
    "hidden": true
   },
   "source": [
    "Date: 19th Feb 2019\n",
    "\n",
    "Time Spent :2hrs\n",
    "\n",
    "Today's progress: Panda - Series, Dataframes, Panel(of course, outdated concept but still did for future reference)..using list, dictionary, series, another dataframe , array"
   ]
  },
  {
   "cell_type": "markdown",
   "metadata": {
    "heading_collapsed": true,
    "hidden": true
   },
   "source": [
    "### Day 28"
   ]
  },
  {
   "cell_type": "markdown",
   "metadata": {
    "hidden": true
   },
   "source": [
    "Date: 20th Feb 2019\n",
    "\n",
    "Time Spent :2hrs\n",
    "\n",
    "Today's progress: worked on Coumns, Index, Reindex, Index Manipulations. "
   ]
  },
  {
   "cell_type": "markdown",
   "metadata": {
    "heading_collapsed": true,
    "hidden": true
   },
   "source": [
    "### Day 29"
   ]
  },
  {
   "cell_type": "markdown",
   "metadata": {
    "hidden": true
   },
   "source": [
    "Date: 21th Feb 2019\n",
    "\n",
    "Time Spent :2hrs\n",
    "\n",
    "Today's progress: Data Cleaning, Missing values(need work more examples), load data from excel "
   ]
  },
  {
   "cell_type": "markdown",
   "metadata": {
    "heading_collapsed": true,
    "hidden": true
   },
   "source": [
    "### Day 30"
   ]
  },
  {
   "cell_type": "markdown",
   "metadata": {
    "hidden": true
   },
   "source": [
    "Date: 22th Feb 2019\n",
    "\n",
    "Time Spent :2hrs\n",
    "\n",
    "Today's progress: Groupby, joins(Merge, left, right, outer), Statistics(std, mean, median, max, min, correlation,count)"
   ]
  },
  {
   "cell_type": "markdown",
   "metadata": {
    "heading_collapsed": true,
    "hidden": true
   },
   "source": [
    "### Day 31"
   ]
  },
  {
   "cell_type": "markdown",
   "metadata": {
    "hidden": true
   },
   "source": [
    "Date: 23rd Feb 2019\n",
    "\n",
    "Time Spent :2hrs\n",
    "\n",
    "Today's progress: F string (Real Python's article); Real Python quize on Strings & Characters."
   ]
  },
  {
   "cell_type": "markdown",
   "metadata": {
    "heading_collapsed": true,
    "hidden": true
   },
   "source": [
    "### Day 32"
   ]
  },
  {
   "cell_type": "markdown",
   "metadata": {
    "hidden": true
   },
   "source": [
    "Date: 24rd Feb 2019\n",
    "\n",
    "Time Spent :4hrs\n",
    "\n",
    "Today's progress: Completed 1(of 22 courses) in DataCamp's career track. "
   ]
  },
  {
   "cell_type": "markdown",
   "metadata": {
    "heading_collapsed": true
   },
   "source": [
    "## After Family Vacation (24th Feb to 15th March )"
   ]
  },
  {
   "cell_type": "markdown",
   "metadata": {
    "heading_collapsed": true,
    "hidden": true
   },
   "source": [
    "### Day 33"
   ]
  },
  {
   "cell_type": "markdown",
   "metadata": {
    "hidden": true
   },
   "source": [
    "Date: 16th March 2019\n",
    "\n",
    "Time Spent :2hrs\n",
    "\n",
    "Today's progress: Completed Data Import1 - txt, excel, CSV files as per DataCamp's career track."
   ]
  },
  {
   "cell_type": "markdown",
   "metadata": {
    "heading_collapsed": true,
    "hidden": true
   },
   "source": [
    "### Day 34"
   ]
  },
  {
   "cell_type": "markdown",
   "metadata": {
    "hidden": true
   },
   "source": [
    "Date: 17th March 2019\n",
    "\n",
    "Time Spent :2hrs\n",
    "\n",
    "Today's progress: Completed Data Import1 - SAS files as per DataCamp's career track."
   ]
  },
  {
   "cell_type": "markdown",
   "metadata": {
    "heading_collapsed": true,
    "hidden": true
   },
   "source": [
    "### Day 35"
   ]
  },
  {
   "cell_type": "markdown",
   "metadata": {
    "hidden": true
   },
   "source": [
    "Date: 18th March 2019\n",
    "\n",
    "Time Spent :2hrs\n",
    "\n",
    "Today's progress: Completed Data Import1 - MATLAB files ."
   ]
  },
  {
   "cell_type": "markdown",
   "metadata": {
    "heading_collapsed": true,
    "hidden": true
   },
   "source": [
    "### Day 36"
   ]
  },
  {
   "cell_type": "markdown",
   "metadata": {
    "hidden": true
   },
   "source": [
    "Date: 19th March 2019\n",
    "\n",
    "Time Spent :2hrs\n",
    "\n",
    "Today's progress: Completed Data Import1 - Stata files, HDF5 files, a file type for storing large quantities of numerical data ."
   ]
  },
  {
   "cell_type": "markdown",
   "metadata": {
    "heading_collapsed": true,
    "hidden": true
   },
   "source": [
    "### Day 37"
   ]
  },
  {
   "cell_type": "markdown",
   "metadata": {
    "hidden": true
   },
   "source": [
    "Date: 20th March 2019\n",
    "\n",
    "Time Spent :2hrs\n",
    "\n",
    "Today's progress: Completed Data Import1 - how to extract meaningful data from relational databases, an essential element of any data scientist's toolkit. You will be learning about the relational model, creating SQL queries, filtering and ordering your SQL records, and advanced querying by JOINing database table"
   ]
  },
  {
   "cell_type": "markdown",
   "metadata": {
    "heading_collapsed": true,
    "hidden": true
   },
   "source": [
    "### Day 38"
   ]
  },
  {
   "cell_type": "markdown",
   "metadata": {
    "hidden": true
   },
   "source": [
    "Date: 21th March 2019\n",
    "\n",
    "Time Spent :2hrs\n",
    "\n",
    "Today's progress: Completed Data Import2 - to get data from the web, whether it be stored in files or in HTML. You'll also learn the basics of scraping and parsing web data."
   ]
  },
  {
   "cell_type": "markdown",
   "metadata": {
    "heading_collapsed": true,
    "hidden": true
   },
   "source": [
    "### Day 39"
   ]
  },
  {
   "cell_type": "markdown",
   "metadata": {
    "hidden": true
   },
   "source": [
    "Date: 22th March 2019\n",
    "\n",
    "Time Spent :2hrs\n",
    "\n",
    "Today's progress: Completed Data Import2 - extracting data from APIs.To stream real-time Twitter data and to analyze and visualize it"
   ]
  },
  {
   "cell_type": "markdown",
   "metadata": {
    "heading_collapsed": true,
    "hidden": true
   },
   "source": [
    "### Day 40"
   ]
  },
  {
   "cell_type": "markdown",
   "metadata": {
    "hidden": true
   },
   "source": [
    "Date: 23th March 2019\n",
    "\n",
    "Time Spent :6hrs\n",
    "\n",
    "Today's progress: Completed Panda Foundation - Data Ingestion & Inspection, Exploratory Data Analysis, Time Series (DateTime Index, resample, reindexing), Case Study- Sunlight in Austin"
   ]
  },
  {
   "cell_type": "markdown",
   "metadata": {
    "heading_collapsed": true,
    "hidden": true
   },
   "source": [
    "### Day 41"
   ]
  },
  {
   "cell_type": "markdown",
   "metadata": {
    "hidden": true
   },
   "source": [
    "Date: 24th March 2019\n",
    "\n",
    "Time Spent :2hrs\n",
    "\n",
    "Today's progress: Completed DataFrame topics - how to index, slice, filter, and transform DataFrames, using a variety of datasets"
   ]
  },
  {
   "cell_type": "markdown",
   "metadata": {
    "heading_collapsed": true,
    "hidden": true
   },
   "source": [
    "### Day 42"
   ]
  },
  {
   "cell_type": "markdown",
   "metadata": {
    "hidden": true
   },
   "source": [
    "Date: 25th March 2019\n",
    "\n",
    "Time Spent :2hrs\n",
    "\n",
    "Today's progress: Completed DataFrame topics - Advanced indexing techniques.MultiIndexes, or hierarchical indexes"
   ]
  },
  {
   "cell_type": "markdown",
   "metadata": {
    "heading_collapsed": true,
    "hidden": true
   },
   "source": [
    "### Day 43"
   ]
  },
  {
   "cell_type": "markdown",
   "metadata": {
    "hidden": true
   },
   "source": [
    "Date: 26th March 2019\n",
    "\n",
    "Time Spent :2hrs\n",
    "\n",
    "Today's progress: Completed DataFrame topics -  techniques such as pivoting, melting"
   ]
  },
  {
   "cell_type": "markdown",
   "metadata": {
    "heading_collapsed": true,
    "hidden": true
   },
   "source": [
    "### Day 44"
   ]
  },
  {
   "cell_type": "markdown",
   "metadata": {
    "hidden": true
   },
   "source": [
    "Date: 27th March 2019\n",
    "\n",
    "Time Spent :2hrs\n",
    "\n",
    "Today's progress: Completed DataFrame topics -stacking, and unstacking"
   ]
  },
  {
   "cell_type": "markdown",
   "metadata": {
    "heading_collapsed": true,
    "hidden": true
   },
   "source": [
    "### Day 45"
   ]
  },
  {
   "cell_type": "markdown",
   "metadata": {
    "hidden": true
   },
   "source": [
    "Date: 28th March 2019\n",
    "\n",
    "Time Spent :2hrs\n",
    "\n",
    "Today's progress: Completed DataFrame topics - ow to identify and split DataFrames by groups or categories for further aggregation or analysis."
   ]
  },
  {
   "cell_type": "markdown",
   "metadata": {
    "heading_collapsed": true,
    "hidden": true
   },
   "source": [
    "### Day 46"
   ]
  },
  {
   "cell_type": "markdown",
   "metadata": {
    "hidden": true
   },
   "source": [
    "Date: 29th March 2019\n",
    "\n",
    "Time Spent : 2hrs\n",
    "\n",
    "Today's progress: Completed topics in Datacamp's course - Manipulating DataFrames with Pandas"
   ]
  },
  {
   "cell_type": "markdown",
   "metadata": {
    "heading_collapsed": true,
    "hidden": true
   },
   "source": [
    "### Day 47"
   ]
  },
  {
   "cell_type": "markdown",
   "metadata": {
    "hidden": true
   },
   "source": [
    "Date: 30th March 2019\n",
    "\n",
    "Time Spent : 2hrs\n",
    "\n",
    "Today's progress: Completed case study of Datacamp's course - Manipulating DataFrames with Pandas"
   ]
  },
  {
   "cell_type": "markdown",
   "metadata": {
    "hidden": true
   },
   "source": [
    "### Day 48"
   ]
  },
  {
   "cell_type": "markdown",
   "metadata": {
    "hidden": true
   },
   "source": [
    "Date: 31th March 2019\n",
    "\n",
    "Time Spent : 2hrs\n",
    "\n",
    "Today's progress: Completed  DataCamp's course: SQL(postgresql) for Data Science"
   ]
  },
  {
   "cell_type": "markdown",
   "metadata": {
    "hidden": true
   },
   "source": [
    "### Day 49"
   ]
  },
  {
   "cell_type": "markdown",
   "metadata": {
    "hidden": true
   },
   "source": [
    "Date: 1st April 2019\n",
    "\n",
    "Time Spent : 4hrs\n",
    "\n",
    "Today's progress: Completed  DataCamp's course: SQL joins(postgresql)"
   ]
  },
  {
   "cell_type": "markdown",
   "metadata": {},
   "source": [
    "## Half Century Mark !"
   ]
  },
  {
   "cell_type": "markdown",
   "metadata": {
    "heading_collapsed": true
   },
   "source": [
    "### Day 50"
   ]
  },
  {
   "cell_type": "markdown",
   "metadata": {
    "hidden": true
   },
   "source": [
    "Date: 2nd April 2019\n",
    "\n",
    "Time Spent : 2hrs\n",
    "\n",
    "Today's progress: SQL alchemy - how to connect to a database and then interact with it by writing basic SQL queries, both in raw SQL as well as with SQLAlchemy, which provides a Pythonic way of interacting with databases ; also completed  filter, order, and count your data, all within the Pythonic framework provided by SQLAlchemy!"
   ]
  },
  {
   "cell_type": "markdown",
   "metadata": {
    "heading_collapsed": true
   },
   "source": [
    "### Day 51"
   ]
  },
  {
   "cell_type": "markdown",
   "metadata": {
    "hidden": true
   },
   "source": [
    "Date: 3rd April 2019\n",
    "\n",
    "Time Spent : 2hrs\n",
    "\n",
    "Today's progress: SQL alchemy - Connecting to MySQL; Advance Queries - Transformations, Hierarchial Data "
   ]
  },
  {
   "cell_type": "markdown",
   "metadata": {
    "heading_collapsed": true
   },
   "source": [
    "### Day 52"
   ]
  },
  {
   "cell_type": "markdown",
   "metadata": {
    "hidden": true
   },
   "source": [
    "Date: 4th April 2019\n",
    "\n",
    "Time Spent : 2hrs\n",
    "\n",
    "Today's progress: SQL alchemy - Case Study & completed the documentation "
   ]
  },
  {
   "cell_type": "markdown",
   "metadata": {
    "heading_collapsed": true
   },
   "source": [
    "### Day 53"
   ]
  },
  {
   "cell_type": "markdown",
   "metadata": {
    "hidden": true
   },
   "source": [
    "Date: 5th April 2019\n",
    "\n",
    "Time Spent : 2hrs\n",
    "\n",
    "Today's progress: Python's visualization using Matplotlib library which includes overlaying plots, making subplots, controlling axes, adding legends and annotations, and using different plot styles."
   ]
  },
  {
   "cell_type": "markdown",
   "metadata": {},
   "source": [
    "### Day 54"
   ]
  },
  {
   "cell_type": "markdown",
   "metadata": {},
   "source": [
    "Date: 6th April 2019\n",
    "\n",
    "Time Spent : 2hrs\n",
    "\n",
    "Today's progress: Python's visualization - Matplotlib techniques for visualizing two-dimensional arrays. This includes the use, presentation, and orientation of grids for representing two-variable functions followed by discussions of pseudocolor plots, contour plots, color maps, two-dimensional histograms, and images"
   ]
  },
  {
   "cell_type": "markdown",
   "metadata": {},
   "source": [
    "### Day 55"
   ]
  },
  {
   "cell_type": "markdown",
   "metadata": {},
   "source": [
    "Date: 7th April 2019\n",
    "\n",
    "Time Spent : 2hrs\n",
    "\n",
    "Today's progress: Python's visualization - Seaborn plotting library for producing statistical graphics in Python, includes computing and visualizing linear regressions as well as tools for visualizing univariate distributions (e.g., strip, swarm, and violin plots) and multivariate distributions (e.g., joint plots, pair plots, and heatmaps)"
   ]
  },
  {
   "cell_type": "markdown",
   "metadata": {},
   "source": [
    "### Day 56"
   ]
  },
  {
   "cell_type": "markdown",
   "metadata": {},
   "source": [
    "Date: 8th April 2019\n",
    "\n",
    "Time Spent : 2hrs\n",
    "\n",
    "Today's progress: Python's visualization - Completed Datacamp's Visualization course"
   ]
  },
  {
   "cell_type": "markdown",
   "metadata": {},
   "source": [
    "### Day 57"
   ]
  },
  {
   "cell_type": "markdown",
   "metadata": {},
   "source": [
    "Date: 8th April 2019\n",
    "\n",
    "Time Spent : 2hrs\n",
    "\n",
    "Today's progress: Revised Seaborn plots for Catergory attributes."
   ]
  },
  {
   "cell_type": "markdown",
   "metadata": {},
   "source": [
    "### Day 58"
   ]
  },
  {
   "cell_type": "markdown",
   "metadata": {},
   "source": [
    "Date: 9th April 2019\n",
    "\n",
    "Time Spent : 2hrs\n",
    "\n",
    "Today's progress: Completed documentation(Python examples) for Seaborn's Univarte & Bivarte distributions and also pairplots."
   ]
  },
  {
   "cell_type": "markdown",
   "metadata": {},
   "source": [
    "### Day 59"
   ]
  },
  {
   "cell_type": "markdown",
   "metadata": {},
   "source": [
    "Date: 10th April 2019\n",
    "\n",
    "Time Spent : 2hrs\n",
    "\n",
    "Today's progress: Customizing plots of stock data (Timeseries), generating histograms of image pixel intensities, and enhancing image contrast through histogram equalization"
   ]
  },
  {
   "cell_type": "markdown",
   "metadata": {},
   "source": [
    "### Day 60"
   ]
  },
  {
   "cell_type": "markdown",
   "metadata": {},
   "source": [
    "Date: 11th April 2019\n",
    "\n",
    "Time Spent : 2hrs\n",
    "\n",
    "Today's progress: Completed previous day's pending work on Timeseries & Image's Histogram plotting."
   ]
  },
  {
   "cell_type": "markdown",
   "metadata": {},
   "source": [
    "### Day 61"
   ]
  },
  {
   "cell_type": "markdown",
   "metadata": {},
   "source": [
    "Date: 12th April 2019\n",
    "\n",
    "Time Spent : 2hrs\n",
    "\n",
    "Today's progress: Completed Graphical Exploratory analysis in Python"
   ]
  },
  {
   "cell_type": "markdown",
   "metadata": {},
   "source": [
    "### Day 62"
   ]
  },
  {
   "cell_type": "markdown",
   "metadata": {},
   "source": [
    "Date: 13th April 2019\n",
    "\n",
    "Time Spent : 2hrs\n",
    "\n",
    "Today's progress: Completed Quanitative Exploratory Data Analysis in Python - Mean, Mode, Median, IQR, Histograms, BoxPlots "
   ]
  },
  {
   "cell_type": "markdown",
   "metadata": {},
   "source": [
    "### Day 63"
   ]
  },
  {
   "cell_type": "markdown",
   "metadata": {},
   "source": [
    "Date: 14th April 2019\n",
    "\n",
    "Time Spent : 2hrs\n",
    "\n",
    "Today's progress: Completed Twitter API connection; extracting tweets per user; load to SQLite table using SQLalchemy  "
   ]
  },
  {
   "cell_type": "markdown",
   "metadata": {},
   "source": [
    "### Day 64"
   ]
  },
  {
   "cell_type": "markdown",
   "metadata": {},
   "source": [
    "Date: 15th April 2019\n",
    "\n",
    "Time Spent : 2hrs\n",
    "\n",
    "Today's progress: Completed Twitter GET user API connection; extracting tweets per user; load to SQLite table using SQLalchemy  "
   ]
  },
  {
   "cell_type": "markdown",
   "metadata": {},
   "source": [
    "### Day 65"
   ]
  },
  {
   "cell_type": "markdown",
   "metadata": {},
   "source": [
    "Date: 16th April 2019\n",
    "\n",
    "Time Spent : 2hrs\n",
    "\n",
    "Today's progress: Continued to explore few more twiiter APIs connection; Yet to complete streamliner.   "
   ]
  },
  {
   "cell_type": "markdown",
   "metadata": {},
   "source": [
    "### Day 66"
   ]
  },
  {
   "cell_type": "markdown",
   "metadata": {},
   "source": [
    "Date: 17th April 2019\n",
    "\n",
    "Time Spent : 2hrs\n",
    "\n",
    "Today's progress: Completed Exploratory Data Analysis ( Quantative & Visual)   "
   ]
  },
  {
   "cell_type": "markdown",
   "metadata": {},
   "source": [
    "### Day 67"
   ]
  },
  {
   "cell_type": "markdown",
   "metadata": {},
   "source": [
    "Date: 18th April 2019\n",
    "\n",
    "Time Spent : 2hrs\n",
    "\n",
    "Today's progress: Completed first round of Supervised Learning - Regression; Logistic Regression, Cross Validation; ROC Curve "
   ]
  },
  {
   "cell_type": "markdown",
   "metadata": {},
   "source": [
    "### Break: Due to Viral fever"
   ]
  },
  {
   "cell_type": "markdown",
   "metadata": {},
   "source": [
    "### Day 68"
   ]
  },
  {
   "cell_type": "markdown",
   "metadata": {},
   "source": [
    "Date: 28th April 2019\n",
    "\n",
    "Time Spent : 2hrs\n",
    "\n",
    "Today's progress: Completed revision on Python Tool Box."
   ]
  },
  {
   "cell_type": "markdown",
   "metadata": {},
   "source": [
    "### Day 69"
   ]
  },
  {
   "cell_type": "markdown",
   "metadata": {},
   "source": [
    "Date: 29th April 2019\n",
    "\n",
    "Time Spent : 2hrs\n",
    "\n",
    "Today's progress: Started revising Pandas; identified some learning gaps. "
   ]
  },
  {
   "cell_type": "markdown",
   "metadata": {},
   "source": [
    "### Day 70"
   ]
  },
  {
   "cell_type": "markdown",
   "metadata": {},
   "source": [
    "Date: 30th April 2019\n",
    "\n",
    "Time Spent : 2hrs\n",
    "\n",
    "Today's progress: Took few tests on Pandas .Results are not to my expectations. Rather replaying the lessons, let me start hands on learning. "
   ]
  },
  {
   "cell_type": "markdown",
   "metadata": {},
   "source": [
    "### Day 71"
   ]
  },
  {
   "cell_type": "markdown",
   "metadata": {},
   "source": [
    "Date: 1st May 2019\n",
    "\n",
    "Time Spent : 2hrs\n",
    "\n",
    "Today's progress: scored 100% on @realpython's \"Python Lists and Tuples\" quiz. Also scored scored 100% on @realpython's \"Python Dictionaries\" quiz."
   ]
  },
  {
   "cell_type": "markdown",
   "metadata": {},
   "source": [
    "### Day 72"
   ]
  },
  {
   "cell_type": "markdown",
   "metadata": {},
   "source": [
    "Date: 4th May 2019\n",
    "\n",
    "Time Spent : 2hrs\n",
    "\n",
    "Today's progress: Started exploring on web scraping using Requests & Beautiful soup to write my first article "
   ]
  },
  {
   "cell_type": "markdown",
   "metadata": {},
   "source": [
    "### Day 73"
   ]
  },
  {
   "cell_type": "markdown",
   "metadata": {},
   "source": [
    "Date: 5th May 2019\n",
    "\n",
    "Time Spent : 4hrs\n",
    "\n",
    "Today's progress: Built my first web scrapper program to extract tabular data from wikipedia pages. Created two use cases. "
   ]
  },
  {
   "cell_type": "markdown",
   "metadata": {},
   "source": [
    "### Day 74"
   ]
  },
  {
   "cell_type": "markdown",
   "metadata": {},
   "source": [
    "Date: 6th May 2019\n",
    "\n",
    "Time Spent : 4hrs\n",
    "\n",
    "Today's progress: Extracted Wikipedia table, Parsed to Pandas, Did data cleanup and Prepared Data Visuals. "
   ]
  },
  {
   "cell_type": "markdown",
   "metadata": {},
   "source": [
    "### Day 75"
   ]
  },
  {
   "cell_type": "markdown",
   "metadata": {},
   "source": [
    "Date: 7th May 2019\n",
    "\n",
    "Time Spent : 3hrs\n",
    "\n",
    "Today's progress:  Published my first Medium post - \"How to scrape Wikipedia Tables using Python & Beautiful Soup\""
   ]
  },
  {
   "cell_type": "markdown",
   "metadata": {},
   "source": [
    "### Day 76"
   ]
  },
  {
   "cell_type": "markdown",
   "metadata": {},
   "source": [
    "Date: 8th May 2019\n",
    "\n",
    "Time Spent : 2hrs\n",
    "\n",
    "Today's progress: Explored GitLab and Git Bash commands especially branch merge - Local vs Remote "
   ]
  },
  {
   "cell_type": "markdown",
   "metadata": {},
   "source": [
    "### Day 77"
   ]
  },
  {
   "cell_type": "markdown",
   "metadata": {},
   "source": [
    "Date: 9th May 2019\n",
    "\n",
    "Time Spent : 2hrs\n",
    "\n",
    "Today's progress: Completed Pandas's - Create from list, array, dictionary, csv, excel, txt, sql, other dfs, series"
   ]
  },
  {
   "cell_type": "markdown",
   "metadata": {},
   "source": [
    "### Day 78"
   ]
  },
  {
   "cell_type": "markdown",
   "metadata": {},
   "source": [
    "Date: 10th May 2019\n",
    "\n",
    "Time Spent : 2hrs\n",
    "\n",
    "Today's progress: Completed Pandas's Manipulations - Column, Row, Index"
   ]
  },
  {
   "cell_type": "markdown",
   "metadata": {},
   "source": [
    "### Day 79"
   ]
  },
  {
   "cell_type": "markdown",
   "metadata": {},
   "source": [
    "Date: 11th May 2019\n",
    "\n",
    "Time Spent : 2hrs\n",
    "\n",
    "Today's progress: Completed Pandas's Filter, Groupby, Aggregations, Pivoting, Melting, Other Transformations "
   ]
  },
  {
   "cell_type": "markdown",
   "metadata": {},
   "source": [
    "### Day 80"
   ]
  },
  {
   "cell_type": "markdown",
   "metadata": {},
   "source": [
    "Date: 12th May 2019\n",
    "\n",
    "Time Spent : 2hrs\n",
    "\n",
    "Today's progress: Completed Pandas's Join & Merge "
   ]
  },
  {
   "cell_type": "markdown",
   "metadata": {},
   "source": [
    "### Day 81"
   ]
  },
  {
   "cell_type": "markdown",
   "metadata": {},
   "source": [
    "Date: 13th May 2019\n",
    "\n",
    "Time Spent : 6hrs\n",
    "\n",
    "Today's progress: Submitted my first Kaggle Project - Predict Titanic Survivals "
   ]
  },
  {
   "cell_type": "markdown",
   "metadata": {},
   "source": [
    "### Day 82"
   ]
  },
  {
   "cell_type": "markdown",
   "metadata": {},
   "source": [
    "Date: 14th May 2019\n",
    "\n",
    "Time Spent : 6hrs\n",
    "\n",
    "Today's progress: Completed Chapter1 of \"Hands On Machine Learning with Scikit Learn and TensorFlow\" and also attend data lab class on MongoBD and other data streams"
   ]
  },
  {
   "cell_type": "markdown",
   "metadata": {},
   "source": [
    "### Day 83"
   ]
  },
  {
   "cell_type": "markdown",
   "metadata": {},
   "source": [
    "Date: 15th May 2019\n",
    "\n",
    "Time Spent : 4hrs\n",
    "\n",
    "Today's progress: Completed Andrew Ng's Machine Learning - week1. And also explored on the python generators and yield as well as iterations of the generators. "
   ]
  },
  {
   "cell_type": "markdown",
   "metadata": {},
   "source": [
    "### Day 84"
   ]
  },
  {
   "cell_type": "markdown",
   "metadata": {},
   "source": [
    "Date: 16th May 2019\n",
    "\n",
    "Time Spent : 2hrs\n",
    "\n",
    "Today's progress: Completed Andrew Ng's Machine Learning - week2"
   ]
  },
  {
   "cell_type": "markdown",
   "metadata": {},
   "source": [
    "### Day 85"
   ]
  },
  {
   "cell_type": "markdown",
   "metadata": {},
   "source": [
    "Date: 17th May 2019\n",
    "\n",
    "Time Spent : 2hrs\n",
    "\n",
    "Today's progress: Completed Chapter2 of \"Hands On Machine Learning with Scikit Learn and TensorFlow\""
   ]
  },
  {
   "cell_type": "markdown",
   "metadata": {},
   "source": [
    "### Day 86"
   ]
  },
  {
   "cell_type": "markdown",
   "metadata": {},
   "source": [
    "Date: 18th May 2019\n",
    "\n",
    "Time Spent : 4hrs\n",
    "\n",
    "Today's progress: Hands on ML project - Housing prices prediction based on the chapter2 of \"Hands On Machine Learning with Scikit Learn and TensorFlow\". "
   ]
  },
  {
   "cell_type": "markdown",
   "metadata": {},
   "source": [
    "### Day 87"
   ]
  },
  {
   "cell_type": "markdown",
   "metadata": {},
   "source": [
    "Date: 19th May 2019\n",
    "\n",
    "Time Spent : 6hrs\n",
    "\n",
    "Today's progress: Started with Kaggle project2. Trying to create custom functions to avoid code repetitons in Data Extractions and Financial Engineering.  Completed custom functions to extract info from dataframe info on the metadata. \n",
    "My objective is to identify reusable functions irrespective of the ML datasets. "
   ]
  },
  {
   "cell_type": "markdown",
   "metadata": {},
   "source": [
    "### Day 88"
   ]
  },
  {
   "cell_type": "markdown",
   "metadata": {},
   "source": [
    "Date: 20th May 2019\n",
    "\n",
    "Time Spent : 4hrs\n",
    "\n",
    "Today's progress: Feature Engineering  - Categorical attributes. Methods used are binning, binary classification, checking for duplicates. "
   ]
  },
  {
   "cell_type": "markdown",
   "metadata": {},
   "source": [
    "### Day 89"
   ]
  },
  {
   "cell_type": "markdown",
   "metadata": {},
   "source": [
    "Date: 21th May 2019\n",
    "\n",
    "Time Spent : 4hrs\n",
    "\n",
    "Today's progress: Feature engineering - handling null lists; one hot-endcoding."
   ]
  },
  {
   "cell_type": "markdown",
   "metadata": {},
   "source": [
    "### Day 90"
   ]
  },
  {
   "cell_type": "markdown",
   "metadata": {},
   "source": [
    "Date: 22th May 2019\n",
    "\n",
    "Time Spent : 4hrs\n",
    "\n",
    "Today's progress: Feature Engineering of IMDB database - decompose date/time, binary classification "
   ]
  },
  {
   "cell_type": "markdown",
   "metadata": {},
   "source": [
    "### Day 91"
   ]
  },
  {
   "cell_type": "markdown",
   "metadata": {},
   "source": [
    "Date: 23th May 2019\n",
    "\n",
    "Time Spent : 6hrs\n",
    "\n",
    "Today's progress: MongoDB Install; Manually establish db server; run Mongodb on command prompt; explore CRUD operations. "
   ]
  },
  {
   "cell_type": "markdown",
   "metadata": {},
   "source": [
    "### Day 92"
   ]
  },
  {
   "cell_type": "markdown",
   "metadata": {},
   "source": [
    "Date: 24th May 2019\n",
    "\n",
    "Time Spent : 2hrs\n",
    "\n",
    "Today's progress: MongoDB's bulk import on the local host "
   ]
  },
  {
   "cell_type": "markdown",
   "metadata": {},
   "source": [
    "### Day 93"
   ]
  },
  {
   "cell_type": "markdown",
   "metadata": {},
   "source": [
    "Date: 25th May 2019\n",
    "\n",
    "Time Spent : 2hrs\n",
    "\n",
    "Today's progress: Explored Unix and Powershell commands "
   ]
  },
  {
   "cell_type": "markdown",
   "metadata": {},
   "source": [
    "### Day 94"
   ]
  },
  {
   "cell_type": "markdown",
   "metadata": {},
   "source": [
    "Date: 26th May 2019\n",
    "\n",
    "Time Spent : 2hrs\n",
    "\n",
    "Today's progress: Completed MongoDB Index "
   ]
  },
  {
   "cell_type": "markdown",
   "metadata": {},
   "source": [
    "### Day 95"
   ]
  },
  {
   "cell_type": "markdown",
   "metadata": {},
   "source": [
    "Date: 27th May 2019\n",
    "\n",
    "Time Spent : 6hrs\n",
    "\n",
    "Today's progress: Completed MongoDB Aggregations"
   ]
  },
  {
   "cell_type": "markdown",
   "metadata": {},
   "source": [
    "### Day 96"
   ]
  },
  {
   "cell_type": "markdown",
   "metadata": {},
   "source": [
    "Date: 29th May 2019\n",
    "\n",
    "Time Spent : 2hrs\n",
    "\n",
    "Today's progress: MongoDB cloud(Atlas) setup "
   ]
  },
  {
   "cell_type": "markdown",
   "metadata": {},
   "source": [
    "### Day 97"
   ]
  },
  {
   "cell_type": "markdown",
   "metadata": {},
   "source": [
    "Date: 1st Jun 2019\n",
    "\n",
    "Time Spent : 2hrs\n",
    "\n",
    "Today's progress:Did CRUD operations on Atlas using powershell and Mongo shell."
   ]
  },
  {
   "cell_type": "markdown",
   "metadata": {},
   "source": [
    "### Day 98"
   ]
  },
  {
   "cell_type": "markdown",
   "metadata": {},
   "source": [
    "Date: 2nd Jun 2019\n",
    "\n",
    "Time Spent : 4hrs\n",
    "\n",
    "Today's progress: Installed MongoDB's Python driver Installed; Explored CRUD operations on the local host "
   ]
  },
  {
   "cell_type": "markdown",
   "metadata": {},
   "source": [
    "### Day 99"
   ]
  },
  {
   "cell_type": "markdown",
   "metadata": {},
   "source": [
    "Date: 3rd Jun 2019\n",
    "\n",
    "Time Spent : 4hrs\n",
    "\n",
    "Today's progress: Explored PyMongo to run CRUD operations on Atlas (Cloud)"
   ]
  },
  {
   "cell_type": "markdown",
   "metadata": {},
   "source": [
    "### Day 100"
   ]
  },
  {
   "cell_type": "markdown",
   "metadata": {},
   "source": [
    "Date: 4th Jun 2019\n",
    "\n",
    "Time Spent : 4hrs\n",
    "\n",
    "Today's progress:Completed Bulk import from server to Mongo Atlas(cloud). As part of process, downloaded the files on the server. Learned and fired few unix commands in cleaning the data and also added few transformations. Finally, loaded JSON array to Atlas using MongoImport.   "
   ]
  },
  {
   "cell_type": "code",
   "execution_count": 4,
   "metadata": {},
   "outputs": [],
   "source": [
    "#import image\n",
    "from IPython.display import Image"
   ]
  },
  {
   "cell_type": "code",
   "execution_count": 7,
   "metadata": {},
   "outputs": [
    {
     "data": {
      "image/gif": "[encoded data removed]",
      "text/plain": [
       "<IPython.core.display.Image object>"
      ]
     },
     "execution_count": 7,
     "metadata": {},
     "output_type": "execute_result"
    }
   ],
   "source": [
    "Image('100thday.gif')"
   ]
  }
 ],
 "metadata": {
  "kernelspec": {
   "display_name": "Python 3",
   "language": "python",
   "name": "python3"
  },
  "language_info": {
   "codemirror_mode": {
    "name": "ipython",
    "version": 3
   },
   "file_extension": ".py",
   "mimetype": "text/x-python",
   "name": "python",
   "nbconvert_exporter": "python",
   "pygments_lexer": "ipython3",
   "version": "3.6.5"
  },
  "toc": {
   "base_numbering": 1,
   "nav_menu": {},
   "number_sections": true,
   "sideBar": true,
   "skip_h1_title": false,
   "title_cell": "Table of Contents",
   "title_sidebar": "Contents",
   "toc_cell": true,
   "toc_position": {
    "height": "calc(100% - 180px)",
    "left": "10px",
    "top": "150px",
    "width": "235px"
   },
   "toc_section_display": true,
   "toc_window_display": true
  },
  "varInspector": {
   "cols": {
    "lenName": 16,
    "lenType": 16,
    "lenVar": 40
   },
   "kernels_config": {
    "python": {
     "delete_cmd_postfix": "",
     "delete_cmd_prefix": "del ",
     "library": "var_list.py",
     "varRefreshCmd": "print(var_dic_list())"
    },
    "r": {
     "delete_cmd_postfix": ") ",
     "delete_cmd_prefix": "rm(",
     "library": "var_list.r",
     "varRefreshCmd": "cat(var_dic_list()) "
    }
   },
   "types_to_exclude": [
    "module",
    "function",
    "builtin_function_or_method",
    "instance",
    "_Feature"
   ],
   "window_display": false
  }
 },
 "nbformat": 4,
 "nbformat_minor": 2
}
