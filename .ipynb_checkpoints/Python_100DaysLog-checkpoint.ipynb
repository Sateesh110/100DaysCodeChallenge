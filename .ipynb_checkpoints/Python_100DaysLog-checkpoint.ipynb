{
 "cells": [
  {
   "cell_type": "markdown",
   "metadata": {
    "toc": true
   },
   "source": [
    "<h1>Table of Contents<span class=\"tocSkip\"></span></h1>\n",
    "<div class=\"toc\"><ul class=\"toc-item\"><li><span><a href=\"#100-Days-Code-Challenge-:-Python\" data-toc-modified-id=\"100-Days-Code-Challenge-:-Python-1\"><span class=\"toc-item-num\">1&nbsp;&nbsp;</span>100 Days Code Challenge : Python</a></span><ul class=\"toc-item\"><li><span><a href=\"#GitHub-repositories-Links\" data-toc-modified-id=\"GitHub-repositories-Links-1.1\"><span class=\"toc-item-num\">1.1&nbsp;&nbsp;</span>GitHub repositories Links</a></span></li><li><span><a href=\"#Warm-up\" data-toc-modified-id=\"Warm-up-1.2\"><span class=\"toc-item-num\">1.2&nbsp;&nbsp;</span>Warm up</a></span><ul class=\"toc-item\"><li><span><a href=\"#Day-1\" data-toc-modified-id=\"Day-1-1.2.1\"><span class=\"toc-item-num\">1.2.1&nbsp;&nbsp;</span>Day 1</a></span></li><li><span><a href=\"#Day-2\" data-toc-modified-id=\"Day-2-1.2.2\"><span class=\"toc-item-num\">1.2.2&nbsp;&nbsp;</span>Day 2</a></span></li><li><span><a href=\"#Day-3\" data-toc-modified-id=\"Day-3-1.2.3\"><span class=\"toc-item-num\">1.2.3&nbsp;&nbsp;</span>Day 3</a></span></li><li><span><a href=\"#Day-4\" data-toc-modified-id=\"Day-4-1.2.4\"><span class=\"toc-item-num\">1.2.4&nbsp;&nbsp;</span>Day 4</a></span></li><li><span><a href=\"#Day-5\" data-toc-modified-id=\"Day-5-1.2.5\"><span class=\"toc-item-num\">1.2.5&nbsp;&nbsp;</span>Day 5</a></span></li><li><span><a href=\"#Day-6\" data-toc-modified-id=\"Day-6-1.2.6\"><span class=\"toc-item-num\">1.2.6&nbsp;&nbsp;</span>Day 6</a></span></li><li><span><a href=\"#Day-7\" data-toc-modified-id=\"Day-7-1.2.7\"><span class=\"toc-item-num\">1.2.7&nbsp;&nbsp;</span>Day 7</a></span></li><li><span><a href=\"#Day-8\" data-toc-modified-id=\"Day-8-1.2.8\"><span class=\"toc-item-num\">1.2.8&nbsp;&nbsp;</span>Day 8</a></span></li><li><span><a href=\"#Day-9\" data-toc-modified-id=\"Day-9-1.2.9\"><span class=\"toc-item-num\">1.2.9&nbsp;&nbsp;</span>Day 9</a></span></li></ul></li><li><span><a href=\"#Full-Throttle\" data-toc-modified-id=\"Full-Throttle-1.3\"><span class=\"toc-item-num\">1.3&nbsp;&nbsp;</span>Full Throttle</a></span><ul class=\"toc-item\"><li><span><a href=\"#Day-10\" data-toc-modified-id=\"Day-10-1.3.1\"><span class=\"toc-item-num\">1.3.1&nbsp;&nbsp;</span>Day 10</a></span></li><li><span><a href=\"#Day-11\" data-toc-modified-id=\"Day-11-1.3.2\"><span class=\"toc-item-num\">1.3.2&nbsp;&nbsp;</span>Day 11</a></span></li><li><span><a href=\"#Day-12\" data-toc-modified-id=\"Day-12-1.3.3\"><span class=\"toc-item-num\">1.3.3&nbsp;&nbsp;</span>Day 12</a></span></li><li><span><a href=\"#Day-13\" data-toc-modified-id=\"Day-13-1.3.4\"><span class=\"toc-item-num\">1.3.4&nbsp;&nbsp;</span>Day 13</a></span></li><li><span><a href=\"#Day-14\" data-toc-modified-id=\"Day-14-1.3.5\"><span class=\"toc-item-num\">1.3.5&nbsp;&nbsp;</span>Day 14</a></span></li></ul></li></ul></li></ul></div>"
   ]
  },
  {
   "cell_type": "markdown",
   "metadata": {},
   "source": [
    "# 100 Days Code Challenge : Python"
   ]
  },
  {
   "cell_type": "markdown",
   "metadata": {},
   "source": [
    "Why I have accepted the challenge?\n",
    "\n",
    "I am using Python for the past two years not only to support my daily work activities like data analysis or XML(Data scrapping) but also using to write statistical functions in my Data Science Course @ University of Toronto. I have started #100DaysCode challenge in a casual way while reading one of the posts on twitter. But after a week, I realized (on Day 7) that i should organize my learning in Python programming so that I can build strong foundation before I start \"Deep Learning\" in March 2019. \n",
    "\n",
    "\n",
    "My Objective: \n",
    "- To revise & upgrade Python programming skills in the following topics.\n",
    "- Be accountable on twitter \n",
    "- Document daily log and Python programs on GitHub.\n",
    "\n",
    " \n",
    "List of Topics: \n",
    "\n",
    "    1. Python Object and Data Structures\n",
    "    2. Comparison Operators\n",
    "    3. Numpy\n",
    "    4. Pandas\n",
    "    5. Python Statements\n",
    "    6. Method and Functions\n",
    "    7. Object Orientiated Programming\n",
    "    8. Modules and Packages\n",
    "    9. Errors and Exceptions Handling\n",
    "    10. Decorators\n",
    "    11. Generators\n",
    "    12. XML scrapping\n",
    "    13. Web Scrapping\n",
    "    14. RESTful API\n",
    "    15. SQLite\n",
    "    16. Statistical Functions\n",
    "    17. Data Visulalizations\n",
    "    \n",
    "    \n",
    "Pre-requistes:\n",
    "\n",
    "1. GitHub setup \n",
    "2. Add Jupyter Extensions\n",
    "3. Prepare list of topics to target \n",
    "\n",
    "  "
   ]
  },
  {
   "cell_type": "markdown",
   "metadata": {},
   "source": [
    "## GitHub repositories Links"
   ]
  },
  {
   "cell_type": "markdown",
   "metadata": {},
   "source": [
    "|Topic|GitHub Link(s)| \n",
    "|---|---|\n",
    "|Strings| https://github.com/Sateesh110/Rep_Python/blob/master/Py_MyRef/zs_Advanced_Strings.ipynb\n",
    "|Lists| https://github.com/Sateesh110/Rep_Python/blob/master/Py_MyRef/zs_Advanced_Lists.ipynb\n",
    "|Tuples| https://github.com/Sateesh110/Rep_Python/blob/master/Py_MyRef/zs_Advanced_Tuples.ipynb\n",
    "|Dictionary|https://github.com/Sateesh110/Rep_Python/blob/master/Py_MyRef/zs_Advanced_Dictionary.ipynb\n",
    "|Sets|"
   ]
  },
  {
   "cell_type": "markdown",
   "metadata": {},
   "source": [
    "## Warm up"
   ]
  },
  {
   "cell_type": "markdown",
   "metadata": {},
   "source": [
    "### Day 1"
   ]
  },
  {
   "cell_type": "markdown",
   "metadata": {},
   "source": [
    "Date: 23rd Oct 2018\n",
    "\n",
    "Time Spent : 1 hr\n",
    "\n",
    "Today's progress: I went through the Python Data structures. "
   ]
  },
  {
   "cell_type": "markdown",
   "metadata": {},
   "source": [
    "### Day 2"
   ]
  },
  {
   "cell_type": "markdown",
   "metadata": {},
   "source": [
    "Date: 24rd Oct 2018 \n",
    "\n",
    "Time Spent : 1 hr\n",
    "\n",
    "Today's progress: Revised Lists in Python."
   ]
  },
  {
   "cell_type": "markdown",
   "metadata": {
    "heading_collapsed": true
   },
   "source": [
    "### Day 3"
   ]
  },
  {
   "cell_type": "markdown",
   "metadata": {
    "hidden": true
   },
   "source": [
    "Date: 25th Oct 2018\n",
    "\n",
    "Time Spent : 1 hr\n",
    "\n",
    "Today's progress: Spent more than hr. Completed Stats assignment using Python SciPy - pvalue, confidence intervals, mean n SD for sample"
   ]
  },
  {
   "cell_type": "markdown",
   "metadata": {
    "heading_collapsed": true
   },
   "source": [
    "### Day 4"
   ]
  },
  {
   "cell_type": "markdown",
   "metadata": {
    "hidden": true
   },
   "source": [
    "Date: 5th Nov 2018\n",
    "\n",
    "Time Spent : 1 hr\n",
    "\n",
    "Today's progress: Revised Python Variables. "
   ]
  },
  {
   "cell_type": "markdown",
   "metadata": {
    "heading_collapsed": true
   },
   "source": [
    "### Day 5"
   ]
  },
  {
   "cell_type": "markdown",
   "metadata": {
    "hidden": true
   },
   "source": [
    "Date: 6th Nov 2018\n",
    "\n",
    "Time Spent : 1 hr\n",
    "\n",
    "Today's progress: Revised Python Variables."
   ]
  },
  {
   "cell_type": "markdown",
   "metadata": {},
   "source": [
    "### Day 6"
   ]
  },
  {
   "cell_type": "markdown",
   "metadata": {},
   "source": [
    "Date: 7th Nov 2018\n",
    "\n",
    "Time Spent : 1 hr\n",
    "\n",
    "Today's progress: Revised Python Variables. Realized that i have spent more time on this challenge. Add to that, I have to my shift my priority for upcoming project go-live(@work) and post go-live support."
   ]
  },
  {
   "cell_type": "markdown",
   "metadata": {},
   "source": [
    "### Day 7"
   ]
  },
  {
   "cell_type": "markdown",
   "metadata": {},
   "source": [
    "Date: 10th Jan 2019\n",
    "\n",
    "Time Spent : 2 hr\n",
    "\n",
    "Today's progress: New challenge at work. I have analyze 1000+ xmls to understand data attributes/values, build logical data model and design data extractions as per consumer requirements.\n",
    "So, I wrote a script in python (using lxml) to scrap required data from xmls. Mission accomplished. Reduced 1 week's work to 1 day's work. "
   ]
  },
  {
   "cell_type": "markdown",
   "metadata": {},
   "source": [
    "### Day 8"
   ]
  },
  {
   "cell_type": "markdown",
   "metadata": {},
   "source": [
    "Date: 12th Jan 2019\n",
    "\n",
    "Time Spent : 1 hr\n",
    "\n",
    "Today's progress: Revisit my previous day code to scrap the data from XMls in case of Name Space. \n",
    "Let me be more observant of #100DaysCode challenge for few days and adopt the best practices as well as structure my daily log. "
   ]
  },
  {
   "cell_type": "markdown",
   "metadata": {},
   "source": [
    "### Day 9"
   ]
  },
  {
   "cell_type": "markdown",
   "metadata": {},
   "source": [
    "Date: 1st Feb 2019\n",
    "\n",
    "Time Spent : 1 hr\n",
    "\n",
    "Today's progress: Completed GitHub Setup for my daily log.\n",
    "Completed work commitments. Wish me luck to complete my prep (for deep learning) by 28th Feb "
   ]
  },
  {
   "cell_type": "markdown",
   "metadata": {},
   "source": [
    "## Full Throttle"
   ]
  },
  {
   "cell_type": "markdown",
   "metadata": {},
   "source": [
    "### Day 10"
   ]
  },
  {
   "cell_type": "markdown",
   "metadata": {},
   "source": [
    "Date: 2nd Feb 2019\n",
    "\n",
    "Time Spent : 4 hr\n",
    "\n",
    "Today's progress: Revised advance string methods - case conversion, count, find, split, partition,split, index, slicing, join, replace, conversion to list etc.   "
   ]
  },
  {
   "cell_type": "markdown",
   "metadata": {},
   "source": [
    "### Day 11"
   ]
  },
  {
   "cell_type": "markdown",
   "metadata": {},
   "source": [
    "Date: 3rd Feb 2019\n",
    "\n",
    "Time Spent : 2 hr\n",
    "\n",
    "Today's progress: Resolved 20 problems related to string in hacker rank."
   ]
  },
  {
   "cell_type": "markdown",
   "metadata": {},
   "source": [
    "### Day 12"
   ]
  },
  {
   "cell_type": "markdown",
   "metadata": {},
   "source": [
    "Date: 4th Feb 2019\n",
    "\n",
    "Time Spent : 2 hr\n",
    "\n",
    "Today's progress: Revised Lists and its built methods. Complied the examples in Jupyter notebook. "
   ]
  },
  {
   "cell_type": "markdown",
   "metadata": {},
   "source": [
    "### Day 13"
   ]
  },
  {
   "cell_type": "markdown",
   "metadata": {},
   "source": [
    "Date: 5th Feb 2019\n",
    "\n",
    "Time Spent : 1 hr\n",
    "\n",
    "Today's progress: Revised Tuples and complied the examples in Jupyter notebook. Moving forward,I should revise previous day work for 10 to 15 minutes. "
   ]
  },
  {
   "cell_type": "markdown",
   "metadata": {},
   "source": [
    "### Day 14"
   ]
  },
  {
   "cell_type": "markdown",
   "metadata": {},
   "source": [
    "Date: 6th Feb 2019\n",
    "\n",
    "Time Spent : 2 hrs\n",
    "\n",
    "Today's progress: Spent 10 mins to revise previous day work. Completed Dictionary and complied the examples in Jupyter notebook."
   ]
  }
 ],
 "metadata": {
  "kernelspec": {
   "display_name": "Python 3",
   "language": "python",
   "name": "python3"
  },
  "language_info": {
   "codemirror_mode": {
    "name": "ipython",
    "version": 3
   },
   "file_extension": ".py",
   "mimetype": "text/x-python",
   "name": "python",
   "nbconvert_exporter": "python",
   "pygments_lexer": "ipython3",
   "version": "3.6.5"
  },
  "toc": {
   "base_numbering": 1,
   "nav_menu": {},
   "number_sections": true,
   "sideBar": true,
   "skip_h1_title": false,
   "title_cell": "Table of Contents",
   "title_sidebar": "Contents",
   "toc_cell": true,
   "toc_position": {
    "height": "calc(100% - 180px)",
    "left": "10px",
    "top": "150px",
    "width": "198px"
   },
   "toc_section_display": true,
   "toc_window_display": true
  },
  "varInspector": {
   "cols": {
    "lenName": 16,
    "lenType": 16,
    "lenVar": 40
   },
   "kernels_config": {
    "python": {
     "delete_cmd_postfix": "",
     "delete_cmd_prefix": "del ",
     "library": "var_list.py",
     "varRefreshCmd": "print(var_dic_list())"
    },
    "r": {
     "delete_cmd_postfix": ") ",
     "delete_cmd_prefix": "rm(",
     "library": "var_list.r",
     "varRefreshCmd": "cat(var_dic_list()) "
    }
   },
   "types_to_exclude": [
    "module",
    "function",
    "builtin_function_or_method",
    "instance",
    "_Feature"
   ],
   "window_display": false
  }
 },
 "nbformat": 4,
 "nbformat_minor": 2
}
