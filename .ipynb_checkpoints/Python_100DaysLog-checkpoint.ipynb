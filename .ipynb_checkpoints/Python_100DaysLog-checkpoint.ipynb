{
 "cells": [
  {
   "cell_type": "markdown",
   "metadata": {
    "toc": true
   },
   "source": [
    "<h1>Table of Contents<span class=\"tocSkip\"></span></h1>\n",
    "<div class=\"toc\"><ul class=\"toc-item\"><li><span><a href=\"#100-Days-Code-Challenge-:-Python\" data-toc-modified-id=\"100-Days-Code-Challenge-:-Python-1\"><span class=\"toc-item-num\">1&nbsp;&nbsp;</span>100 Days Code Challenge : Python</a></span><ul class=\"toc-item\"><li><span><a href=\"#GitHub-repositories-Links\" data-toc-modified-id=\"GitHub-repositories-Links-1.1\"><span class=\"toc-item-num\">1.1&nbsp;&nbsp;</span>GitHub repositories Links</a></span></li><li><span><a href=\"#Warm-up\" data-toc-modified-id=\"Warm-up-1.2\"><span class=\"toc-item-num\">1.2&nbsp;&nbsp;</span>Warm up</a></span><ul class=\"toc-item\"><li><span><a href=\"#Day-1\" data-toc-modified-id=\"Day-1-1.2.1\"><span class=\"toc-item-num\">1.2.1&nbsp;&nbsp;</span>Day 1</a></span></li><li><span><a href=\"#Day-2\" data-toc-modified-id=\"Day-2-1.2.2\"><span class=\"toc-item-num\">1.2.2&nbsp;&nbsp;</span>Day 2</a></span></li><li><span><a href=\"#Day-3\" data-toc-modified-id=\"Day-3-1.2.3\"><span class=\"toc-item-num\">1.2.3&nbsp;&nbsp;</span>Day 3</a></span></li><li><span><a href=\"#Day-4\" data-toc-modified-id=\"Day-4-1.2.4\"><span class=\"toc-item-num\">1.2.4&nbsp;&nbsp;</span>Day 4</a></span></li><li><span><a href=\"#Day-5\" data-toc-modified-id=\"Day-5-1.2.5\"><span class=\"toc-item-num\">1.2.5&nbsp;&nbsp;</span>Day 5</a></span></li><li><span><a href=\"#Day-6\" data-toc-modified-id=\"Day-6-1.2.6\"><span class=\"toc-item-num\">1.2.6&nbsp;&nbsp;</span>Day 6</a></span></li><li><span><a href=\"#Day-7\" data-toc-modified-id=\"Day-7-1.2.7\"><span class=\"toc-item-num\">1.2.7&nbsp;&nbsp;</span>Day 7</a></span></li><li><span><a href=\"#Day-8\" data-toc-modified-id=\"Day-8-1.2.8\"><span class=\"toc-item-num\">1.2.8&nbsp;&nbsp;</span>Day 8</a></span></li><li><span><a href=\"#Day-9\" data-toc-modified-id=\"Day-9-1.2.9\"><span class=\"toc-item-num\">1.2.9&nbsp;&nbsp;</span>Day 9</a></span></li></ul></li><li><span><a href=\"#Full-Throttle\" data-toc-modified-id=\"Full-Throttle-1.3\"><span class=\"toc-item-num\">1.3&nbsp;&nbsp;</span>Full Throttle</a></span><ul class=\"toc-item\"><li><span><a href=\"#Day-10\" data-toc-modified-id=\"Day-10-1.3.1\"><span class=\"toc-item-num\">1.3.1&nbsp;&nbsp;</span>Day 10</a></span></li><li><span><a href=\"#Day-11\" data-toc-modified-id=\"Day-11-1.3.2\"><span class=\"toc-item-num\">1.3.2&nbsp;&nbsp;</span>Day 11</a></span></li><li><span><a href=\"#Day-12\" data-toc-modified-id=\"Day-12-1.3.3\"><span class=\"toc-item-num\">1.3.3&nbsp;&nbsp;</span>Day 12</a></span></li><li><span><a href=\"#Day-13\" data-toc-modified-id=\"Day-13-1.3.4\"><span class=\"toc-item-num\">1.3.4&nbsp;&nbsp;</span>Day 13</a></span></li><li><span><a href=\"#Day-14\" data-toc-modified-id=\"Day-14-1.3.5\"><span class=\"toc-item-num\">1.3.5&nbsp;&nbsp;</span>Day 14</a></span></li><li><span><a href=\"#Day-15\" data-toc-modified-id=\"Day-15-1.3.6\"><span class=\"toc-item-num\">1.3.6&nbsp;&nbsp;</span>Day 15</a></span></li><li><span><a href=\"#Day-16\" data-toc-modified-id=\"Day-16-1.3.7\"><span class=\"toc-item-num\">1.3.7&nbsp;&nbsp;</span>Day 16</a></span></li><li><span><a href=\"#Day-17\" data-toc-modified-id=\"Day-17-1.3.8\"><span class=\"toc-item-num\">1.3.8&nbsp;&nbsp;</span>Day 17</a></span></li><li><span><a href=\"#Day-18\" data-toc-modified-id=\"Day-18-1.3.9\"><span class=\"toc-item-num\">1.3.9&nbsp;&nbsp;</span>Day 18</a></span></li><li><span><a href=\"#Day-19\" data-toc-modified-id=\"Day-19-1.3.10\"><span class=\"toc-item-num\">1.3.10&nbsp;&nbsp;</span>Day 19</a></span></li><li><span><a href=\"#Day-20\" data-toc-modified-id=\"Day-20-1.3.11\"><span class=\"toc-item-num\">1.3.11&nbsp;&nbsp;</span>Day 20</a></span></li><li><span><a href=\"#Day-21\" data-toc-modified-id=\"Day-21-1.3.12\"><span class=\"toc-item-num\">1.3.12&nbsp;&nbsp;</span>Day 21</a></span></li><li><span><a href=\"#Day-22\" data-toc-modified-id=\"Day-22-1.3.13\"><span class=\"toc-item-num\">1.3.13&nbsp;&nbsp;</span>Day 22</a></span></li><li><span><a href=\"#Day-23\" data-toc-modified-id=\"Day-23-1.3.14\"><span class=\"toc-item-num\">1.3.14&nbsp;&nbsp;</span>Day 23</a></span></li><li><span><a href=\"#Day-24\" data-toc-modified-id=\"Day-24-1.3.15\"><span class=\"toc-item-num\">1.3.15&nbsp;&nbsp;</span>Day 24</a></span></li><li><span><a href=\"#Day-25\" data-toc-modified-id=\"Day-25-1.3.16\"><span class=\"toc-item-num\">1.3.16&nbsp;&nbsp;</span>Day 25</a></span></li><li><span><a href=\"#Day-26\" data-toc-modified-id=\"Day-26-1.3.17\"><span class=\"toc-item-num\">1.3.17&nbsp;&nbsp;</span>Day 26</a></span></li><li><span><a href=\"#Day-27\" data-toc-modified-id=\"Day-27-1.3.18\"><span class=\"toc-item-num\">1.3.18&nbsp;&nbsp;</span>Day 27</a></span></li><li><span><a href=\"#Day-28\" data-toc-modified-id=\"Day-28-1.3.19\"><span class=\"toc-item-num\">1.3.19&nbsp;&nbsp;</span>Day 28</a></span></li><li><span><a href=\"#Day-29\" data-toc-modified-id=\"Day-29-1.3.20\"><span class=\"toc-item-num\">1.3.20&nbsp;&nbsp;</span>Day 29</a></span></li><li><span><a href=\"#Day-30\" data-toc-modified-id=\"Day-30-1.3.21\"><span class=\"toc-item-num\">1.3.21&nbsp;&nbsp;</span>Day 30</a></span></li><li><span><a href=\"#Day-31\" data-toc-modified-id=\"Day-31-1.3.22\"><span class=\"toc-item-num\">1.3.22&nbsp;&nbsp;</span>Day 31</a></span></li><li><span><a href=\"#Day-32\" data-toc-modified-id=\"Day-32-1.3.23\"><span class=\"toc-item-num\">1.3.23&nbsp;&nbsp;</span>Day 32</a></span></li></ul></li><li><span><a href=\"#After-Family-Vacation-(24th-Feb-to-15th-March-)\" data-toc-modified-id=\"After-Family-Vacation-(24th-Feb-to-15th-March-)-1.4\"><span class=\"toc-item-num\">1.4&nbsp;&nbsp;</span>After Family Vacation (24th Feb to 15th March )</a></span><ul class=\"toc-item\"><li><span><a href=\"#Day-33\" data-toc-modified-id=\"Day-33-1.4.1\"><span class=\"toc-item-num\">1.4.1&nbsp;&nbsp;</span>Day 33</a></span></li><li><span><a href=\"#Day-34\" data-toc-modified-id=\"Day-34-1.4.2\"><span class=\"toc-item-num\">1.4.2&nbsp;&nbsp;</span>Day 34</a></span></li><li><span><a href=\"#Day-35\" data-toc-modified-id=\"Day-35-1.4.3\"><span class=\"toc-item-num\">1.4.3&nbsp;&nbsp;</span>Day 35</a></span></li><li><span><a href=\"#Day-36\" data-toc-modified-id=\"Day-36-1.4.4\"><span class=\"toc-item-num\">1.4.4&nbsp;&nbsp;</span>Day 36</a></span></li><li><span><a href=\"#Day-37\" data-toc-modified-id=\"Day-37-1.4.5\"><span class=\"toc-item-num\">1.4.5&nbsp;&nbsp;</span>Day 37</a></span></li><li><span><a href=\"#Day-38\" data-toc-modified-id=\"Day-38-1.4.6\"><span class=\"toc-item-num\">1.4.6&nbsp;&nbsp;</span>Day 38</a></span></li><li><span><a href=\"#Day-39\" data-toc-modified-id=\"Day-39-1.4.7\"><span class=\"toc-item-num\">1.4.7&nbsp;&nbsp;</span>Day 39</a></span></li><li><span><a href=\"#Day-40\" data-toc-modified-id=\"Day-40-1.4.8\"><span class=\"toc-item-num\">1.4.8&nbsp;&nbsp;</span>Day 40</a></span></li><li><span><a href=\"#Day-41\" data-toc-modified-id=\"Day-41-1.4.9\"><span class=\"toc-item-num\">1.4.9&nbsp;&nbsp;</span>Day 41</a></span></li></ul></li></ul></li></ul></div>"
   ]
  },
  {
   "cell_type": "markdown",
   "metadata": {},
   "source": [
    "# 100 Days Code Challenge : Python"
   ]
  },
  {
   "cell_type": "markdown",
   "metadata": {},
   "source": [
    "Why I have accepted the challenge?\n",
    "\n",
    "I am using Python for the past two years not only to support my daily work activities like data analysis or XML(Data scrapping) but also to write statistical functions in my Data Science Course @ University of Toronto. I am doing #100DaysCode challenge to help me build a strong foundation before I start \"Deep Learning\" in May 2019. \n",
    "\n",
    "\n",
    "My Objective: \n",
    "- To revise & upgrade Python programming skills in the following topics.\n",
    "- Be accountable on twitter \n",
    "- Document daily log and Python programs on GitHub.\n",
    "\n",
    " \n",
    "List of Topics: \n",
    "\n",
    "    1. Python Object and Data Structures (**Completed**)\n",
    "            - Strings\n",
    "            - Lists\n",
    "            - Dictionary\n",
    "            - Sets\n",
    "            - Tuples\n",
    "    2. Comparison Operators (**Completed**)\n",
    "    3. Numpy (**Completed**)\n",
    "    4. Pandas\n",
    "    5. Python Statements (**Completed**)\n",
    "    6. Method and Functions (**Completed**)\n",
    "    7. Object Orientiated Programming (**Completed**)\n",
    "    8. Modules and Packages\n",
    "    9. Errors and Exceptions Handling\n",
    "    10. Decorators\n",
    "    11. Generators\n",
    "    12. XML scrapping\n",
    "    13. Web Scrapping\n",
    "    14. RESTful API\n",
    "    15. SQLite\n",
    "    16. Statistical Functions\n",
    "    17. Data Visulalizations\n",
    "    18. MongoDB using Python\n",
    "    19. ReGex\n",
    "    20. Import Data using Python from various sources\n",
    "    21. Sckit\n",
    "    22. Supervised learning\n",
    "    23. UnSupervised learning\n",
    "    24. Deep Learning\n",
    "    \n",
    "    \n",
    "    \n",
    "    \n",
    "Pre-requisites:\n",
    "\n",
    "1. GitHub setup \n",
    "2. Add Jupyter Extensions\n",
    "3. Prepare list of topics to target \n",
    "\n",
    "  "
   ]
  },
  {
   "cell_type": "markdown",
   "metadata": {},
   "source": [
    "## GitHub repositories Links"
   ]
  },
  {
   "cell_type": "markdown",
   "metadata": {},
   "source": [
    "|Topic|GitHub Link(s)| \n",
    "|---|---|\n",
    "|Strings| https://github.com/Sateesh110/Rep_Python/blob/master/Py_MyRef/zs_Advanced_Strings.ipynb\n",
    "|Lists| https://github.com/Sateesh110/Rep_Python/blob/master/Py_MyRef/zs_Advanced_Lists.ipynb\n",
    "|Tuples| https://github.com/Sateesh110/Rep_Python/blob/master/Py_MyRef/zs_Advanced_Tuples.ipynb\n",
    "|Dictionary|https://github.com/Sateesh110/Rep_Python/blob/master/Py_MyRef/zs_Advanced_Dictionary.ipynb\n",
    "|Sets|https://github.com/Sateesh110/Rep_Python/blob/master/Py_MyRef/zs_Advanced_Sets.ipynb\n",
    "|Literals & Operators|https://github.com/Sateesh110/Rep_Python/blob/master/Py_MyRef/zs_Variables_Comparsion_Statements.ipynb\n",
    "|Functions & Methods|https://github.com/Sateesh110/Rep_Python/blob/master/Py_MyRef/zs_Advanced_Methods_Functions.ipynb\n",
    "|Class & Module|https://github.com/Sateesh110/Rep_Python/blob/master/Py_MyRef/zs_Advanced_Methods_Functions.ipynb\n",
    "|Array & Numpy|https://github.com/Sateesh110/Rep_Python/blob/master/Py_MyRef/zs_Advanced_Numpy.ipynb"
   ]
  },
  {
   "cell_type": "markdown",
   "metadata": {
    "heading_collapsed": true
   },
   "source": [
    "## Warm up"
   ]
  },
  {
   "cell_type": "markdown",
   "metadata": {
    "hidden": true
   },
   "source": [
    "### Day 1"
   ]
  },
  {
   "cell_type": "markdown",
   "metadata": {
    "hidden": true
   },
   "source": [
    "Date: 23rd Oct 2018\n",
    "\n",
    "Time Spent : 1 hr\n",
    "\n",
    "Today's progress: I went through the Python Data structures. "
   ]
  },
  {
   "cell_type": "markdown",
   "metadata": {
    "hidden": true
   },
   "source": [
    "### Day 2"
   ]
  },
  {
   "cell_type": "markdown",
   "metadata": {
    "hidden": true
   },
   "source": [
    "Date: 24rd Oct 2018 \n",
    "\n",
    "Time Spent : 1 hr\n",
    "\n",
    "Today's progress: Revised Lists in Python."
   ]
  },
  {
   "cell_type": "markdown",
   "metadata": {
    "heading_collapsed": true,
    "hidden": true
   },
   "source": [
    "### Day 3"
   ]
  },
  {
   "cell_type": "markdown",
   "metadata": {
    "hidden": true
   },
   "source": [
    "Date: 25th Oct 2018\n",
    "\n",
    "Time Spent : 1 hr\n",
    "\n",
    "Today's progress: Spent more than hr. Completed Stats assignment using Python SciPy - pvalue, confidence intervals, mean n SD for sample"
   ]
  },
  {
   "cell_type": "markdown",
   "metadata": {
    "heading_collapsed": true,
    "hidden": true
   },
   "source": [
    "### Day 4"
   ]
  },
  {
   "cell_type": "markdown",
   "metadata": {
    "hidden": true
   },
   "source": [
    "Date: 5th Nov 2018\n",
    "\n",
    "Time Spent : 1 hr\n",
    "\n",
    "Today's progress: Revised Python Variables. "
   ]
  },
  {
   "cell_type": "markdown",
   "metadata": {
    "heading_collapsed": true,
    "hidden": true
   },
   "source": [
    "### Day 5"
   ]
  },
  {
   "cell_type": "markdown",
   "metadata": {
    "hidden": true
   },
   "source": [
    "Date: 6th Nov 2018\n",
    "\n",
    "Time Spent : 1 hr\n",
    "\n",
    "Today's progress: Revised Python Variables."
   ]
  },
  {
   "cell_type": "markdown",
   "metadata": {
    "hidden": true
   },
   "source": [
    "### Day 6"
   ]
  },
  {
   "cell_type": "markdown",
   "metadata": {
    "hidden": true
   },
   "source": [
    "Date: 7th Nov 2018\n",
    "\n",
    "Time Spent : 1 hr\n",
    "\n",
    "Today's progress: Revised Python Variables. Realized that i have spent more time on this challenge. Add to that, I have to my shift my priority for upcoming project go-live(@work) and post go-live support."
   ]
  },
  {
   "cell_type": "markdown",
   "metadata": {
    "hidden": true
   },
   "source": [
    "### Day 7"
   ]
  },
  {
   "cell_type": "markdown",
   "metadata": {
    "hidden": true
   },
   "source": [
    "Date: 10th Jan 2019\n",
    "\n",
    "Time Spent : 2 hr\n",
    "\n",
    "Today's progress: New challenge at work. I have analyze 1000+ xmls to understand data attributes/values, build logical data model and design data extractions as per consumer requirements.\n",
    "So, I wrote a script in python (using lxml) to scrap required data from xmls. Mission accomplished. Reduced 1 week's work to 1 day's work. "
   ]
  },
  {
   "cell_type": "markdown",
   "metadata": {
    "hidden": true
   },
   "source": [
    "### Day 8"
   ]
  },
  {
   "cell_type": "markdown",
   "metadata": {
    "hidden": true
   },
   "source": [
    "Date: 12th Jan 2019\n",
    "\n",
    "Time Spent : 1 hr\n",
    "\n",
    "Today's progress: Revisit my previous day code to scrap the data from XMls in case of Name Space. \n",
    "Let me be more observant of #100DaysCode challenge for few days and adopt the best practices as well as structure my daily log. "
   ]
  },
  {
   "cell_type": "markdown",
   "metadata": {
    "hidden": true
   },
   "source": [
    "### Day 9"
   ]
  },
  {
   "cell_type": "markdown",
   "metadata": {
    "hidden": true
   },
   "source": [
    "Date: 1st Feb 2019\n",
    "\n",
    "Time Spent : 1 hr\n",
    "\n",
    "Today's progress: Completed GitHub Setup for my daily log.\n",
    "Completed work commitments. Wish me luck to complete my prep (for deep learning) by 28th Feb "
   ]
  },
  {
   "cell_type": "markdown",
   "metadata": {},
   "source": [
    "## Full Throttle"
   ]
  },
  {
   "cell_type": "markdown",
   "metadata": {
    "heading_collapsed": true
   },
   "source": [
    "### Day 10"
   ]
  },
  {
   "cell_type": "markdown",
   "metadata": {
    "hidden": true
   },
   "source": [
    "Date: 2nd Feb 2019\n",
    "\n",
    "Time Spent : 4 hr\n",
    "\n",
    "Today's progress: Revised advance string methods - case conversion, count, find, split, partition,split, index, slicing, join, replace, conversion to list etc.   "
   ]
  },
  {
   "cell_type": "markdown",
   "metadata": {
    "heading_collapsed": true
   },
   "source": [
    "### Day 11"
   ]
  },
  {
   "cell_type": "markdown",
   "metadata": {
    "hidden": true
   },
   "source": [
    "Date: 3rd Feb 2019\n",
    "\n",
    "Time Spent : 2 hr\n",
    "\n",
    "Today's progress: Resolved 20 problems related to string in hacker rank."
   ]
  },
  {
   "cell_type": "markdown",
   "metadata": {
    "heading_collapsed": true
   },
   "source": [
    "### Day 12"
   ]
  },
  {
   "cell_type": "markdown",
   "metadata": {
    "hidden": true
   },
   "source": [
    "Date: 4th Feb 2019\n",
    "\n",
    "Time Spent : 2 hr\n",
    "\n",
    "Today's progress: Revised Lists and its built methods. Compiled the examples in Jupyter notebook. "
   ]
  },
  {
   "cell_type": "markdown",
   "metadata": {
    "heading_collapsed": true
   },
   "source": [
    "### Day 13"
   ]
  },
  {
   "cell_type": "markdown",
   "metadata": {
    "hidden": true
   },
   "source": [
    "Date: 5th Feb 2019\n",
    "\n",
    "Time Spent : 1 hr\n",
    "\n",
    "Today's progress: Revised Tuples and compiled the examples in Jupyter notebook. Moving forward,I should revise previous day work for 10 to 15 minutes. "
   ]
  },
  {
   "cell_type": "markdown",
   "metadata": {
    "heading_collapsed": true
   },
   "source": [
    "### Day 14"
   ]
  },
  {
   "cell_type": "markdown",
   "metadata": {
    "hidden": true
   },
   "source": [
    "Date: 6th Feb 2019\n",
    "\n",
    "Time Spent : 2 hrs\n",
    "\n",
    "Today's progress: Spent 10 mins to revise previous day work. Completed Dictionary and compiled the examples in Jupyter notebook."
   ]
  },
  {
   "cell_type": "markdown",
   "metadata": {
    "heading_collapsed": true
   },
   "source": [
    "### Day 15"
   ]
  },
  {
   "cell_type": "markdown",
   "metadata": {
    "hidden": true
   },
   "source": [
    "Date: 7th Feb 2019\n",
    "\n",
    "Time Spent : 2 hrs\n",
    "\n",
    "Today's progress: Completed SET - Create/Change, Set operations(Union,Intersection,Difference etc),Frozen Set and Set Methods.Compiled the examples in Jupyter notebook."
   ]
  },
  {
   "cell_type": "markdown",
   "metadata": {
    "heading_collapsed": true
   },
   "source": [
    "### Day 16"
   ]
  },
  {
   "cell_type": "markdown",
   "metadata": {
    "hidden": true
   },
   "source": [
    "Date: 8th Feb 2019\n",
    "\n",
    "Time Spent : 1 hrs\n",
    "\n",
    "Today's progress: Completed Literals & Operators.Compiled the examples in Jupyter notebook."
   ]
  },
  {
   "cell_type": "markdown",
   "metadata": {
    "heading_collapsed": true
   },
   "source": [
    "### Day 17"
   ]
  },
  {
   "cell_type": "markdown",
   "metadata": {
    "hidden": true
   },
   "source": [
    "Date: 9th Feb 2019\n",
    "\n",
    "Time Spent : 1 hrs\n",
    "\n",
    "Today's progress: Completed Statement, Namespace, Special Operators.Compiled the examples in Jupyter notebook."
   ]
  },
  {
   "cell_type": "markdown",
   "metadata": {
    "heading_collapsed": true
   },
   "source": [
    "### Day 18"
   ]
  },
  {
   "cell_type": "markdown",
   "metadata": {
    "hidden": true
   },
   "source": [
    "Date: 10th Feb 2019\n",
    "\n",
    "Time Spent : 3 hrs\n",
    "\n",
    "Today's progress: Completed Functions, Arguments, *args, **kwargs, lambda"
   ]
  },
  {
   "cell_type": "markdown",
   "metadata": {
    "heading_collapsed": true
   },
   "source": [
    "### Day 19"
   ]
  },
  {
   "cell_type": "markdown",
   "metadata": {
    "hidden": true
   },
   "source": [
    "Date: 11th Feb 2019\n",
    "\n",
    "Time Spent : 3 hrs\n",
    "\n",
    "Today's progress: Completed recursive functions, flow controls loops- if/elif/else, for/else, while/else, break,pass, continue.Compiled the examples in Jupyter notebook."
   ]
  },
  {
   "cell_type": "markdown",
   "metadata": {
    "heading_collapsed": true
   },
   "source": [
    "### Day 20"
   ]
  },
  {
   "cell_type": "markdown",
   "metadata": {
    "hidden": true
   },
   "source": [
    "Date: 12th Feb 2019\n",
    "\n",
    "Time Spent : 1 hrs\n",
    "\n",
    "Today's progress: wrote GCD program using recursive function.revisted some learning gaps in functions and methods. "
   ]
  },
  {
   "cell_type": "markdown",
   "metadata": {
    "heading_collapsed": true
   },
   "source": [
    "### Day 21"
   ]
  },
  {
   "cell_type": "markdown",
   "metadata": {
    "hidden": true
   },
   "source": [
    "Date: 13th Feb 2019\n",
    "\n",
    "Time Spent : 3 hrs\n",
    "\n",
    "Today's progress: Spent time in compiling my short notes on OOPS - Class, class attributes, defining instance attributes & methods. OOPS's properties like Inheritance,Encapsulation,Special methods."
   ]
  },
  {
   "cell_type": "markdown",
   "metadata": {
    "heading_collapsed": true
   },
   "source": [
    "### Day 22"
   ]
  },
  {
   "cell_type": "markdown",
   "metadata": {
    "hidden": true
   },
   "source": [
    "Date: 14th Feb 2019\n",
    "\n",
    "Time Spent : 2 hrs\n",
    "\n",
    "Today's progress: Completed topics - 1d array, 2d array, 3d array, Initial placeholders(range array, array with zeros, identity array, empty array, ones array, linespace, constant array, randon array)."
   ]
  },
  {
   "cell_type": "markdown",
   "metadata": {
    "heading_collapsed": true
   },
   "source": [
    "### Day 23"
   ]
  },
  {
   "cell_type": "markdown",
   "metadata": {
    "hidden": true
   },
   "source": [
    "Date: 15th Feb 2019\n",
    "\n",
    "Time Spent : 1 hrs\n",
    "\n",
    "Today's progress: Completed topics - Inspecting Array (shape, ndim, len,dtype,astype), Help function "
   ]
  },
  {
   "cell_type": "markdown",
   "metadata": {
    "heading_collapsed": true
   },
   "source": [
    "### Day 24"
   ]
  },
  {
   "cell_type": "markdown",
   "metadata": {
    "hidden": true
   },
   "source": [
    "Date: 16th Feb 2019\n",
    "\n",
    "Time Spent : 2 hrs\n",
    "\n",
    "Today's progress: Completed topics - Array Mathematics(Arithmetic Operations, Comparsion,Aggregate functions - std, mean, median,max, min, cumsum, sum) "
   ]
  },
  {
   "cell_type": "markdown",
   "metadata": {
    "heading_collapsed": true
   },
   "source": [
    "### Day 25"
   ]
  },
  {
   "cell_type": "markdown",
   "metadata": {
    "hidden": true
   },
   "source": [
    "Date: 17th Feb 2019\n",
    "\n",
    "Time Spent : 2 hrs\n",
    "\n",
    "Today's progress: Copying Array,Sorting Arrays, Subsetting, Slicing, Indexing"
   ]
  },
  {
   "cell_type": "markdown",
   "metadata": {
    "heading_collapsed": true
   },
   "source": [
    "### Day 26"
   ]
  },
  {
   "cell_type": "markdown",
   "metadata": {
    "hidden": true
   },
   "source": [
    "Date: 18th Feb 2019\n",
    "\n",
    "Time Spent : 4 hrs\n",
    "\n",
    "Today's progress: Completed topics on Array Manipulations & I/O functions - Transposing, Flatten array, reshape, add/removing elements (append, insert, resize, delete), Combining Arrays(Horizontal, Vertical,Concatenate arrays), split( horizontal, vertical), Input/Output array functions, and other array examples (for future reference).   "
   ]
  },
  {
   "cell_type": "markdown",
   "metadata": {
    "heading_collapsed": true
   },
   "source": [
    "### Day 27"
   ]
  },
  {
   "cell_type": "markdown",
   "metadata": {
    "hidden": true
   },
   "source": [
    "Date: 19th Feb 2019\n",
    "\n",
    "Time Spent :2hrs\n",
    "\n",
    "Today's progress: Panda - Series, Dataframes, Panel(of course, outdated concept but still did for future reference)..using list, dictionary, series, another dataframe , array"
   ]
  },
  {
   "cell_type": "markdown",
   "metadata": {
    "heading_collapsed": true
   },
   "source": [
    "### Day 28"
   ]
  },
  {
   "cell_type": "markdown",
   "metadata": {
    "hidden": true
   },
   "source": [
    "Date: 20th Feb 2019\n",
    "\n",
    "Time Spent :2hrs\n",
    "\n",
    "Today's progress: worked on Coumns, Index, Reindex, Index Manipulations. "
   ]
  },
  {
   "cell_type": "markdown",
   "metadata": {
    "heading_collapsed": true
   },
   "source": [
    "### Day 29"
   ]
  },
  {
   "cell_type": "markdown",
   "metadata": {
    "hidden": true
   },
   "source": [
    "Date: 21th Feb 2019\n",
    "\n",
    "Time Spent :2hrs\n",
    "\n",
    "Today's progress: Data Cleaning, Missing values(need work more examples), load data from excel "
   ]
  },
  {
   "cell_type": "markdown",
   "metadata": {
    "heading_collapsed": true
   },
   "source": [
    "### Day 30"
   ]
  },
  {
   "cell_type": "markdown",
   "metadata": {
    "hidden": true
   },
   "source": [
    "Date: 22th Feb 2019\n",
    "\n",
    "Time Spent :2hrs\n",
    "\n",
    "Today's progress: Groupby, joins(Merge, left, right, outer), Statistics(std, mean, median, max, min, correlation,count)"
   ]
  },
  {
   "cell_type": "markdown",
   "metadata": {
    "heading_collapsed": true
   },
   "source": [
    "### Day 31"
   ]
  },
  {
   "cell_type": "markdown",
   "metadata": {
    "hidden": true
   },
   "source": [
    "Date: 23rd Feb 2019\n",
    "\n",
    "Time Spent :2hrs\n",
    "\n",
    "Today's progress: F string (Real Python's article); Real Python quize on Strings & Characters."
   ]
  },
  {
   "cell_type": "markdown",
   "metadata": {},
   "source": [
    "### Day 32"
   ]
  },
  {
   "cell_type": "markdown",
   "metadata": {},
   "source": [
    "Date: 24rd Feb 2019\n",
    "\n",
    "Time Spent :4hrs\n",
    "\n",
    "Today's progress: Completed 1(of 22 courses) in DataCamp's career track. "
   ]
  },
  {
   "cell_type": "markdown",
   "metadata": {},
   "source": [
    "## After Family Vacation (24th Feb to 15th March )"
   ]
  },
  {
   "cell_type": "markdown",
   "metadata": {},
   "source": [
    "### Day 33"
   ]
  },
  {
   "cell_type": "markdown",
   "metadata": {},
   "source": [
    "Date: 16th March 2019\n",
    "\n",
    "Time Spent :2hrs\n",
    "\n",
    "Today's progress: Completed Data Import1 - txt, excel, CSV files as per DataCamp's career track."
   ]
  },
  {
   "cell_type": "markdown",
   "metadata": {},
   "source": [
    "### Day 34"
   ]
  },
  {
   "cell_type": "markdown",
   "metadata": {},
   "source": [
    "Date: 17th March 2019\n",
    "\n",
    "Time Spent :2hrs\n",
    "\n",
    "Today's progress: Completed Data Import1 - SAS files as per DataCamp's career track."
   ]
  },
  {
   "cell_type": "markdown",
   "metadata": {},
   "source": [
    "### Day 35"
   ]
  },
  {
   "cell_type": "markdown",
   "metadata": {},
   "source": [
    "Date: 18th March 2019\n",
    "\n",
    "Time Spent :2hrs\n",
    "\n",
    "Today's progress: Completed Data Import1 - MATLAB files ."
   ]
  },
  {
   "cell_type": "markdown",
   "metadata": {},
   "source": [
    "### Day 36"
   ]
  },
  {
   "cell_type": "markdown",
   "metadata": {},
   "source": [
    "Date: 19th March 2019\n",
    "\n",
    "Time Spent :2hrs\n",
    "\n",
    "Today's progress: Completed Data Import1 - Stata files, HDF5 files, a file type for storing large quantities of numerical data ."
   ]
  },
  {
   "cell_type": "markdown",
   "metadata": {},
   "source": [
    "### Day 37"
   ]
  },
  {
   "cell_type": "markdown",
   "metadata": {},
   "source": [
    "Date: 20th March 2019\n",
    "\n",
    "Time Spent :2hrs\n",
    "\n",
    "Today's progress: Completed Data Import1 - how to extract meaningful data from relational databases, an essential element of any data scientist's toolkit. You will be learning about the relational model, creating SQL queries, filtering and ordering your SQL records, and advanced querying by JOINing database table"
   ]
  },
  {
   "cell_type": "markdown",
   "metadata": {},
   "source": [
    "### Day 38"
   ]
  },
  {
   "cell_type": "markdown",
   "metadata": {},
   "source": [
    "Date: 21th March 2019\n",
    "\n",
    "Time Spent :2hrs\n",
    "\n",
    "Today's progress: Completed Data Import2 - to get data from the web, whether it be stored in files or in HTML. You'll also learn the basics of scraping and parsing web data."
   ]
  },
  {
   "cell_type": "markdown",
   "metadata": {},
   "source": [
    "### Day 39"
   ]
  },
  {
   "cell_type": "markdown",
   "metadata": {},
   "source": [
    "Date: 22th March 2019\n",
    "\n",
    "Time Spent :2hrs\n",
    "\n",
    "Today's progress: Completed Data Import2 - extracting data from APIs.To stream real-time Twitter data and to analyze and visualize it"
   ]
  },
  {
   "cell_type": "markdown",
   "metadata": {},
   "source": [
    "### Day 40"
   ]
  },
  {
   "cell_type": "markdown",
   "metadata": {},
   "source": [
    "Date: 23th March 2019\n",
    "\n",
    "Time Spent :6hrs\n",
    "\n",
    "Today's progress: Completed Panda Foundation - Data Ingestion & Inspection, Exploratory Data Analysis, Time Series (DateTime Index, resample, reindexing), Case Study- Sunlight in Austin"
   ]
  },
  {
   "cell_type": "markdown",
   "metadata": {},
   "source": [
    "### Day 41"
   ]
  },
  {
   "cell_type": "code",
   "execution_count": null,
   "metadata": {},
   "outputs": [],
   "source": []
  }
 ],
 "metadata": {
  "kernelspec": {
   "display_name": "Python 3",
   "language": "python",
   "name": "python3"
  },
  "language_info": {
   "codemirror_mode": {
    "name": "ipython",
    "version": 3
   },
   "file_extension": ".py",
   "mimetype": "text/x-python",
   "name": "python",
   "nbconvert_exporter": "python",
   "pygments_lexer": "ipython3",
   "version": "3.6.5"
  },
  "toc": {
   "base_numbering": 1,
   "nav_menu": {},
   "number_sections": true,
   "sideBar": true,
   "skip_h1_title": false,
   "title_cell": "Table of Contents",
   "title_sidebar": "Contents",
   "toc_cell": true,
   "toc_position": {
    "height": "calc(100% - 180px)",
    "left": "10px",
    "top": "150px",
    "width": "198px"
   },
   "toc_section_display": true,
   "toc_window_display": true
  },
  "varInspector": {
   "cols": {
    "lenName": 16,
    "lenType": 16,
    "lenVar": 40
   },
   "kernels_config": {
    "python": {
     "delete_cmd_postfix": "",
     "delete_cmd_prefix": "del ",
     "library": "var_list.py",
     "varRefreshCmd": "print(var_dic_list())"
    },
    "r": {
     "delete_cmd_postfix": ") ",
     "delete_cmd_prefix": "rm(",
     "library": "var_list.r",
     "varRefreshCmd": "cat(var_dic_list()) "
    }
   },
   "types_to_exclude": [
    "module",
    "function",
    "builtin_function_or_method",
    "instance",
    "_Feature"
   ],
   "window_display": false
  }
 },
 "nbformat": 4,
 "nbformat_minor": 2
}
